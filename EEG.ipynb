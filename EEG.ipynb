{
  "nbformat": 4,
  "nbformat_minor": 0,
  "metadata": {
    "colab": {
      "provenance": [],
      "include_colab_link": true
    },
    "kernelspec": {
      "name": "python3",
      "display_name": "Python 3"
    },
    "language_info": {
      "name": "python"
    },
    "accelerator": "GPU",
    "gpuClass": "standard"
  },
  "cells": [
    {
      "cell_type": "markdown",
      "metadata": {
        "id": "view-in-github",
        "colab_type": "text"
      },
      "source": [
        "<a href=\"https://colab.research.google.com/github/zkhodakarami/DL-on-EEG/blob/main/EEG.ipynb\" target=\"_parent\"><img src=\"https://colab.research.google.com/assets/colab-badge.svg\" alt=\"Open In Colab\"/></a>"
      ]
    },
    {
      "cell_type": "code",
      "source": [
        "from google.colab import drive\n",
        "drive.mount('/content/drive')"
      ],
      "metadata": {
        "colab": {
          "base_uri": "https://localhost:8080/"
        },
        "id": "jmTryUPBBY3l",
        "outputId": "cf6f30f7-4c1f-4657-8702-557f92860a9d"
      },
      "execution_count": 1,
      "outputs": [
        {
          "output_type": "stream",
          "name": "stdout",
          "text": [
            "Mounted at /content/drive\n"
          ]
        }
      ]
    },
    {
      "cell_type": "code",
      "source": [
        "# SOLUTION TO LOAD DATA\n",
        "#Lucas directory\n",
        "\n",
        "import scipy.io as sio\n",
        "\n",
        "#data_v6 = sio.loadmat('/content/drive/MyDrive/data_for_zahra/data_cube_v6.mat') ## CHANGE THIS PATH TO WHERE THE FILE SHOULD BE\n",
        "data_old_whato5 = sio.loadmat('/content/drive/MyDrive/research/What/data_for_zahra/old/whato5_cube.mat') ## LUCAS"
      ],
      "metadata": {
        "id": "LOtrTK66RLaR"
      },
      "execution_count": null,
      "outputs": []
    },
    {
      "cell_type": "code",
      "source": [
        "#Zahra dir\n",
        "\n",
        "import scipy.io as sio\n",
        "\n",
        "whato10 = sio.loadmat('/content/drive/MyDrive/data_for_zahra/old/whato10_cube.mat') ## CHANGE THIS PATH TO WHERE THE FILE SHOULD BE\n",
        "#data_old_whato5 = sio.loadmat('/content/drive/MyDrive/research/What/data_for_zahra/old/whato5_cube.mat')"
      ],
      "metadata": {
        "id": "PdNR2zK4MJxl"
      },
      "execution_count": 2,
      "outputs": []
    },
    {
      "cell_type": "code",
      "source": [
        "#print(data_old_whato5.keys())\n",
        "print(whato10.keys())"
      ],
      "metadata": {
        "colab": {
          "base_uri": "https://localhost:8080/"
        },
        "id": "VT53t8ViJB5c",
        "outputId": "2a33b141-18f6-4023-9cfa-fb0898c8a30f"
      },
      "execution_count": null,
      "outputs": [
        {
          "output_type": "stream",
          "name": "stdout",
          "text": [
            "dict_keys(['__header__', '__version__', '__globals__', 'data_cube', 'label_channel', 'label_hand', 'label_type', 'num_kept'])\n"
          ]
        }
      ]
    },
    {
      "cell_type": "code",
      "source": [
        "df = whato10['data_cube']\n",
        "df.shape"
      ],
      "metadata": {
        "colab": {
          "base_uri": "https://localhost:8080/"
        },
        "id": "12hOl9ctSEQe",
        "outputId": "00ad654f-b3a0-4f2c-f29a-0960195cd7d4"
      },
      "execution_count": 4,
      "outputs": [
        {
          "output_type": "execute_result",
          "data": {
            "text/plain": [
              "(64, 2560, 365)"
            ]
          },
          "metadata": {},
          "execution_count": 4
        }
      ]
    },
    {
      "cell_type": "code",
      "source": [
        "label_type = whato10['label_type']\n",
        "sum(label_type == 3)"
      ],
      "metadata": {
        "colab": {
          "base_uri": "https://localhost:8080/"
        },
        "id": "oAJAj5-8frRy",
        "outputId": "3c51ef5e-6163-439c-80d9-8004e3e41ce0"
      },
      "execution_count": 3,
      "outputs": [
        {
          "output_type": "execute_result",
          "data": {
            "text/plain": [
              "array([126])"
            ]
          },
          "metadata": {},
          "execution_count": 3
        }
      ]
    },
    {
      "cell_type": "code",
      "source": [
        "df[10,2559,7]"
      ],
      "metadata": {
        "id": "QbvQzgnfC_HR",
        "colab": {
          "base_uri": "https://localhost:8080/"
        },
        "outputId": "e155c9ca-4902-4299-c5ac-02dd427bb33c"
      },
      "execution_count": 5,
      "outputs": [
        {
          "output_type": "execute_result",
          "data": {
            "text/plain": [
              "-28.389547066287946"
            ]
          },
          "metadata": {},
          "execution_count": 5
        }
      ]
    },
    {
      "cell_type": "code",
      "source": [
        "label_hand2 = whato10['label_hand']\n",
        "label_hand2"
      ],
      "metadata": {
        "colab": {
          "base_uri": "https://localhost:8080/"
        },
        "id": "S0Y89nNRe_A3",
        "outputId": "80408890-ec59-454f-f960-f8d4c7532ec5"
      },
      "execution_count": 6,
      "outputs": [
        {
          "output_type": "execute_result",
          "data": {
            "text/plain": [
              "array([[0],\n",
              "       [1],\n",
              "       [0],\n",
              "       [1],\n",
              "       [0],\n",
              "       [1],\n",
              "       [0],\n",
              "       [0],\n",
              "       [1],\n",
              "       [0],\n",
              "       [1],\n",
              "       [0],\n",
              "       [1],\n",
              "       [0],\n",
              "       [1],\n",
              "       [0],\n",
              "       [0],\n",
              "       [1],\n",
              "       [0],\n",
              "       [1],\n",
              "       [0],\n",
              "       [1],\n",
              "       [0],\n",
              "       [1],\n",
              "       [0],\n",
              "       [1],\n",
              "       [0],\n",
              "       [0],\n",
              "       [1],\n",
              "       [1],\n",
              "       [0],\n",
              "       [0],\n",
              "       [1],\n",
              "       [0],\n",
              "       [1],\n",
              "       [0],\n",
              "       [0],\n",
              "       [1],\n",
              "       [1],\n",
              "       [1],\n",
              "       [0],\n",
              "       [0],\n",
              "       [0],\n",
              "       [0],\n",
              "       [0],\n",
              "       [1],\n",
              "       [1],\n",
              "       [1],\n",
              "       [1],\n",
              "       [1],\n",
              "       [0],\n",
              "       [0],\n",
              "       [1],\n",
              "       [0],\n",
              "       [1],\n",
              "       [0],\n",
              "       [0],\n",
              "       [0],\n",
              "       [1],\n",
              "       [0],\n",
              "       [1],\n",
              "       [0],\n",
              "       [1],\n",
              "       [0],\n",
              "       [1],\n",
              "       [0],\n",
              "       [1],\n",
              "       [1],\n",
              "       [0],\n",
              "       [0],\n",
              "       [1],\n",
              "       [0],\n",
              "       [1],\n",
              "       [0],\n",
              "       [1],\n",
              "       [0],\n",
              "       [1],\n",
              "       [1],\n",
              "       [0],\n",
              "       [1],\n",
              "       [0],\n",
              "       [0],\n",
              "       [1],\n",
              "       [0],\n",
              "       [1],\n",
              "       [0],\n",
              "       [1],\n",
              "       [0],\n",
              "       [1],\n",
              "       [1],\n",
              "       [0],\n",
              "       [1],\n",
              "       [0],\n",
              "       [0],\n",
              "       [0],\n",
              "       [1],\n",
              "       [0],\n",
              "       [1],\n",
              "       [0],\n",
              "       [1],\n",
              "       [0],\n",
              "       [1],\n",
              "       [0],\n",
              "       [0],\n",
              "       [1],\n",
              "       [0],\n",
              "       [0],\n",
              "       [0],\n",
              "       [1],\n",
              "       [1],\n",
              "       [0],\n",
              "       [0],\n",
              "       [0],\n",
              "       [0],\n",
              "       [0],\n",
              "       [0],\n",
              "       [1],\n",
              "       [1],\n",
              "       [1],\n",
              "       [0],\n",
              "       [0],\n",
              "       [0],\n",
              "       [0],\n",
              "       [0],\n",
              "       [0],\n",
              "       [1],\n",
              "       [1],\n",
              "       [0],\n",
              "       [1],\n",
              "       [0],\n",
              "       [1],\n",
              "       [0],\n",
              "       [1],\n",
              "       [0],\n",
              "       [1],\n",
              "       [0],\n",
              "       [1],\n",
              "       [0],\n",
              "       [1],\n",
              "       [0],\n",
              "       [1],\n",
              "       [0],\n",
              "       [0],\n",
              "       [1],\n",
              "       [1],\n",
              "       [0],\n",
              "       [0],\n",
              "       [1],\n",
              "       [0],\n",
              "       [1],\n",
              "       [0],\n",
              "       [1],\n",
              "       [1],\n",
              "       [1],\n",
              "       [0],\n",
              "       [1],\n",
              "       [0],\n",
              "       [1],\n",
              "       [0],\n",
              "       [1],\n",
              "       [0],\n",
              "       [1],\n",
              "       [0],\n",
              "       [0],\n",
              "       [1],\n",
              "       [0],\n",
              "       [1],\n",
              "       [0],\n",
              "       [0],\n",
              "       [1],\n",
              "       [0],\n",
              "       [1],\n",
              "       [0],\n",
              "       [0],\n",
              "       [1],\n",
              "       [0],\n",
              "       [1],\n",
              "       [0],\n",
              "       [0],\n",
              "       [1],\n",
              "       [1],\n",
              "       [0],\n",
              "       [0],\n",
              "       [1],\n",
              "       [1],\n",
              "       [0],\n",
              "       [0],\n",
              "       [1],\n",
              "       [1],\n",
              "       [0],\n",
              "       [1],\n",
              "       [0],\n",
              "       [1],\n",
              "       [0],\n",
              "       [0],\n",
              "       [1],\n",
              "       [1],\n",
              "       [0],\n",
              "       [1],\n",
              "       [0],\n",
              "       [0],\n",
              "       [1],\n",
              "       [1],\n",
              "       [1],\n",
              "       [0],\n",
              "       [0],\n",
              "       [1],\n",
              "       [0],\n",
              "       [0],\n",
              "       [0],\n",
              "       [0],\n",
              "       [1],\n",
              "       [1],\n",
              "       [1],\n",
              "       [1],\n",
              "       [1],\n",
              "       [1],\n",
              "       [1],\n",
              "       [1],\n",
              "       [1],\n",
              "       [0],\n",
              "       [0],\n",
              "       [0],\n",
              "       [0],\n",
              "       [0],\n",
              "       [1],\n",
              "       [0],\n",
              "       [1],\n",
              "       [0],\n",
              "       [1],\n",
              "       [0],\n",
              "       [1],\n",
              "       [0],\n",
              "       [1],\n",
              "       [1],\n",
              "       [0],\n",
              "       [1],\n",
              "       [0],\n",
              "       [1],\n",
              "       [0],\n",
              "       [1],\n",
              "       [0],\n",
              "       [1],\n",
              "       [0],\n",
              "       [0],\n",
              "       [1],\n",
              "       [1],\n",
              "       [0],\n",
              "       [0],\n",
              "       [0],\n",
              "       [0],\n",
              "       [0],\n",
              "       [0],\n",
              "       [0],\n",
              "       [0],\n",
              "       [0],\n",
              "       [0],\n",
              "       [1],\n",
              "       [1],\n",
              "       [1],\n",
              "       [0],\n",
              "       [0],\n",
              "       [0],\n",
              "       [0],\n",
              "       [0],\n",
              "       [1],\n",
              "       [0],\n",
              "       [0],\n",
              "       [1],\n",
              "       [0],\n",
              "       [1],\n",
              "       [1],\n",
              "       [1],\n",
              "       [1],\n",
              "       [0],\n",
              "       [0],\n",
              "       [1],\n",
              "       [0],\n",
              "       [1],\n",
              "       [1],\n",
              "       [0],\n",
              "       [1],\n",
              "       [0],\n",
              "       [0],\n",
              "       [1],\n",
              "       [1],\n",
              "       [0],\n",
              "       [0],\n",
              "       [1],\n",
              "       [1],\n",
              "       [0],\n",
              "       [0],\n",
              "       [1],\n",
              "       [0],\n",
              "       [1],\n",
              "       [1],\n",
              "       [0],\n",
              "       [1],\n",
              "       [0],\n",
              "       [1],\n",
              "       [1],\n",
              "       [0],\n",
              "       [0],\n",
              "       [1],\n",
              "       [0],\n",
              "       [1],\n",
              "       [1],\n",
              "       [0],\n",
              "       [0],\n",
              "       [1],\n",
              "       [1],\n",
              "       [0],\n",
              "       [0],\n",
              "       [1],\n",
              "       [0],\n",
              "       [1],\n",
              "       [0],\n",
              "       [1],\n",
              "       [0],\n",
              "       [1],\n",
              "       [0],\n",
              "       [0],\n",
              "       [0],\n",
              "       [0],\n",
              "       [0],\n",
              "       [0],\n",
              "       [0],\n",
              "       [1],\n",
              "       [1],\n",
              "       [1],\n",
              "       [1],\n",
              "       [1],\n",
              "       [0],\n",
              "       [0],\n",
              "       [0],\n",
              "       [0],\n",
              "       [0],\n",
              "       [0],\n",
              "       [0],\n",
              "       [1],\n",
              "       [0],\n",
              "       [0],\n",
              "       [0],\n",
              "       [0],\n",
              "       [0],\n",
              "       [1],\n",
              "       [1],\n",
              "       [0],\n",
              "       [1],\n",
              "       [0],\n",
              "       [1],\n",
              "       [0],\n",
              "       [1],\n",
              "       [0],\n",
              "       [0],\n",
              "       [0],\n",
              "       [1],\n",
              "       [1],\n",
              "       [1],\n",
              "       [1],\n",
              "       [1],\n",
              "       [0],\n",
              "       [1],\n",
              "       [0],\n",
              "       [0]], dtype=uint8)"
            ]
          },
          "metadata": {},
          "execution_count": 6
        }
      ]
    },
    {
      "cell_type": "code",
      "source": [
        "#lable_hand2 = sio.loadmat('/content/drive/MyDrive/data_for_zahra/old/test_data_labelhand_mat.mat')"
      ],
      "metadata": {
        "id": "ZPZeKwJ8H__G"
      },
      "execution_count": null,
      "outputs": []
    },
    {
      "cell_type": "code",
      "source": [
        "#print(lable_hand2.keys())"
      ],
      "metadata": {
        "colab": {
          "base_uri": "https://localhost:8080/"
        },
        "id": "Tos0SpCpKK-7",
        "outputId": "7a45140e-a11d-48e9-e739-ac2e80a21e85"
      },
      "execution_count": null,
      "outputs": [
        {
          "output_type": "stream",
          "name": "stdout",
          "text": [
            "dict_keys(['__header__', '__version__', '__globals__', 'label_hand'])\n"
          ]
        }
      ]
    },
    {
      "cell_type": "code",
      "source": [
        "#df2 = lable_hand2['label_hand']\n",
        "#df2.shape"
      ],
      "metadata": {
        "colab": {
          "base_uri": "https://localhost:8080/"
        },
        "id": "OEVeEakuIPj_",
        "outputId": "d1d21d63-355f-4a27-a8d5-eecc0f5e2bd7"
      },
      "execution_count": null,
      "outputs": [
        {
          "output_type": "execute_result",
          "data": {
            "text/plain": [
              "(356, 1)"
            ]
          },
          "metadata": {},
          "execution_count": 48
        }
      ]
    },
    {
      "cell_type": "code",
      "source": [
        "#print(df2[1])"
      ],
      "metadata": {
        "colab": {
          "base_uri": "https://localhost:8080/"
        },
        "id": "jOh4mGtjKlpu",
        "outputId": "18dd5214-280a-4a4e-82d6-6d8c013cf1e9"
      },
      "execution_count": null,
      "outputs": [
        {
          "output_type": "stream",
          "name": "stdout",
          "text": [
            "[1]\n"
          ]
        }
      ]
    },
    {
      "cell_type": "code",
      "source": [
        "#data_test = sio.loadmat('/content/drive/MyDrive/data_for_zahra/old/data_test_version7.mat')\n",
        "#print(data_test.keys())"
      ],
      "metadata": {
        "colab": {
          "base_uri": "https://localhost:8080/"
        },
        "id": "17qgUhB7LIlS",
        "outputId": "44293c10-4a58-44e4-f99b-e4580796554a"
      },
      "execution_count": null,
      "outputs": [
        {
          "output_type": "stream",
          "name": "stdout",
          "text": [
            "dict_keys(['__header__', '__version__', '__globals__', 'data_cube', 'label_channel', 'label_hand', 'label_type', 'num_kept'])\n"
          ]
        }
      ]
    },
    {
      "cell_type": "code",
      "source": [
        "label_channel = whato10['label_channel']\n",
        "label_channel.shape"
      ],
      "metadata": {
        "colab": {
          "base_uri": "https://localhost:8080/"
        },
        "id": "Sd8V8VOZLyzp",
        "outputId": "37e8b76a-d0ba-4ad0-92c9-e9ed5a36f65a"
      },
      "execution_count": 7,
      "outputs": [
        {
          "output_type": "execute_result",
          "data": {
            "text/plain": [
              "(64, 1)"
            ]
          },
          "metadata": {},
          "execution_count": 7
        }
      ]
    },
    {
      "cell_type": "code",
      "source": [
        "print (label_channel)"
      ],
      "metadata": {
        "colab": {
          "base_uri": "https://localhost:8080/"
        },
        "id": "AWb_UEV8L_lK",
        "outputId": "a9017312-b250-4b05-b74a-093b5e672318"
      },
      "execution_count": null,
      "outputs": [
        {
          "output_type": "stream",
          "name": "stdout",
          "text": [
            "[[array(['Fp1'], dtype='<U3')]\n",
            " [array(['AF7'], dtype='<U3')]\n",
            " [array(['AF3'], dtype='<U3')]\n",
            " [array(['F1'], dtype='<U2')]\n",
            " [array(['F3'], dtype='<U2')]\n",
            " [array(['F5'], dtype='<U2')]\n",
            " [array(['F7'], dtype='<U2')]\n",
            " [array(['FT7'], dtype='<U3')]\n",
            " [array(['FC5'], dtype='<U3')]\n",
            " [array(['FC3'], dtype='<U3')]\n",
            " [array(['FC1'], dtype='<U3')]\n",
            " [array(['C1'], dtype='<U2')]\n",
            " [array(['C3'], dtype='<U2')]\n",
            " [array(['C5'], dtype='<U2')]\n",
            " [array(['T7'], dtype='<U2')]\n",
            " [array(['TP7'], dtype='<U3')]\n",
            " [array(['CP5'], dtype='<U3')]\n",
            " [array(['CP3'], dtype='<U3')]\n",
            " [array(['CP1'], dtype='<U3')]\n",
            " [array(['P1'], dtype='<U2')]\n",
            " [array(['P3'], dtype='<U2')]\n",
            " [array(['P5'], dtype='<U2')]\n",
            " [array(['P7'], dtype='<U2')]\n",
            " [array(['P9'], dtype='<U2')]\n",
            " [array(['PO7'], dtype='<U3')]\n",
            " [array(['PO3'], dtype='<U3')]\n",
            " [array(['O1'], dtype='<U2')]\n",
            " [array(['Iz'], dtype='<U2')]\n",
            " [array(['Oz'], dtype='<U2')]\n",
            " [array(['POz'], dtype='<U3')]\n",
            " [array(['Pz'], dtype='<U2')]\n",
            " [array(['CPz'], dtype='<U3')]\n",
            " [array(['Fpz'], dtype='<U3')]\n",
            " [array(['Fp2'], dtype='<U3')]\n",
            " [array(['AF8'], dtype='<U3')]\n",
            " [array(['AF4'], dtype='<U3')]\n",
            " [array(['AFz'], dtype='<U3')]\n",
            " [array(['Fz'], dtype='<U2')]\n",
            " [array(['F2'], dtype='<U2')]\n",
            " [array(['F4'], dtype='<U2')]\n",
            " [array(['F6'], dtype='<U2')]\n",
            " [array(['F8'], dtype='<U2')]\n",
            " [array(['FT8'], dtype='<U3')]\n",
            " [array(['FC6'], dtype='<U3')]\n",
            " [array(['FC4'], dtype='<U3')]\n",
            " [array(['FC2'], dtype='<U3')]\n",
            " [array(['FCz'], dtype='<U3')]\n",
            " [array(['Cz'], dtype='<U2')]\n",
            " [array(['C2'], dtype='<U2')]\n",
            " [array(['C4'], dtype='<U2')]\n",
            " [array(['C6'], dtype='<U2')]\n",
            " [array(['T8'], dtype='<U2')]\n",
            " [array(['TP8'], dtype='<U3')]\n",
            " [array(['CP6'], dtype='<U3')]\n",
            " [array(['CP4'], dtype='<U3')]\n",
            " [array(['CP2'], dtype='<U3')]\n",
            " [array(['P2'], dtype='<U2')]\n",
            " [array(['P4'], dtype='<U2')]\n",
            " [array(['P6'], dtype='<U2')]\n",
            " [array(['P8'], dtype='<U2')]\n",
            " [array(['P10'], dtype='<U3')]\n",
            " [array(['PO8'], dtype='<U3')]\n",
            " [array(['PO4'], dtype='<U3')]\n",
            " [array(['O2'], dtype='<U2')]]\n"
          ]
        }
      ]
    },
    {
      "cell_type": "code",
      "source": [
        "for i in range (64):\n",
        "  if (label_channel[i] == 'C1'):\n",
        "    print (i)\n",
        "  elif (label_channel[i] == 'C2'):\n",
        "    print ( i)\n",
        "  elif (label_channel[i] == 'C3'):\n",
        "    print ( i)\n",
        "  elif (label_channel[i] == 'C4'):\n",
        "    print ( i) \n",
        "  elif (label_channel[i] == 'C5'):\n",
        "    print ( i)\n",
        "  elif (label_channel[i] == 'C6'):\n",
        "    print ( i)\n",
        "  elif (label_channel[i] == 'Cz'):\n",
        "    print ( i)\n",
        "  elif (label_channel[i] == 'FC1'):\n",
        "    print ( i)\n",
        "  elif (label_channel [i] == 'FC2'):\n",
        "    print ( i)\n",
        "  elif (label_channel[i] == 'FC3'):\n",
        "    print ( i)\n",
        "  elif (label_channel[i] == 'FC4'):\n",
        "    print ( i)"
      ],
      "metadata": {
        "colab": {
          "base_uri": "https://localhost:8080/"
        },
        "id": "NNK3xq5STRxS",
        "outputId": "6a1bf2b0-ed5a-4cb1-c235-40e59888b0ba"
      },
      "execution_count": 8,
      "outputs": [
        {
          "output_type": "stream",
          "name": "stdout",
          "text": [
            "9\n",
            "10\n",
            "11\n",
            "12\n",
            "13\n",
            "44\n",
            "45\n",
            "47\n",
            "48\n",
            "49\n",
            "50\n"
          ]
        }
      ]
    },
    {
      "cell_type": "code",
      "source": [
        "print(label_hand)"
      ],
      "metadata": {
        "id": "Ph2FlBKVMp-D"
      },
      "execution_count": null,
      "outputs": []
    },
    {
      "cell_type": "code",
      "source": [
        "print(label_type)"
      ],
      "metadata": {
        "id": "KPWiMwAVNAfh"
      },
      "execution_count": null,
      "outputs": []
    },
    {
      "cell_type": "code",
      "source": [
        "import tensorflow as tf\n",
        "import numpy as np\n",
        "data = np.zeros((12, 256 , 365))"
      ],
      "metadata": {
        "id": "bkYxnfSoQsWg"
      },
      "execution_count": 9,
      "outputs": []
    },
    {
      "cell_type": "code",
      "source": [
        "data[1,1,1]"
      ],
      "metadata": {
        "colab": {
          "base_uri": "https://localhost:8080/"
        },
        "id": "GEEfinnUy1ri",
        "outputId": "7439d0e6-aeea-427f-f7cd-baac8dd501f8"
      },
      "execution_count": null,
      "outputs": [
        {
          "output_type": "execute_result",
          "data": {
            "text/plain": [
              "0.0"
            ]
          },
          "metadata": {},
          "execution_count": 60
        }
      ]
    },
    {
      "cell_type": "markdown",
      "source": [
        "\n",
        "\n",
        "```\n",
        "6\n",
        "7\n",
        "22\n",
        "23\n",
        "27\n",
        "35\n",
        "36\n",
        "37\n",
        "51\n",
        "52\n",
        "53\n",
        "```\n",
        "\n"
      ],
      "metadata": {
        "id": "WqMiP9ZNWx71"
      }
    },
    {
      "cell_type": "markdown",
      "source": [
        "9\n",
        "10\n",
        "11\n",
        "12\n",
        "13\n",
        "44\n",
        "45\n",
        "47\n",
        "48\n",
        "49\n",
        "50"
      ],
      "metadata": {
        "id": "w5wZR6YKQHul"
      }
    },
    {
      "cell_type": "code",
      "source": [
        "label_type = whato10['label_type']\n",
        "label_type.shape"
      ],
      "metadata": {
        "colab": {
          "base_uri": "https://localhost:8080/"
        },
        "id": "11N-vsbjMuyG",
        "outputId": "7dda82fc-765f-4ef7-eba1-8ec4a12b7144"
      },
      "execution_count": 10,
      "outputs": [
        {
          "output_type": "execute_result",
          "data": {
            "text/plain": [
              "(365, 1)"
            ]
          },
          "metadata": {},
          "execution_count": 10
        }
      ]
    },
    {
      "cell_type": "code",
      "source": [
        "data_cube = whato10['data_cube']\n",
        "data_cube.shape"
      ],
      "metadata": {
        "colab": {
          "base_uri": "https://localhost:8080/"
        },
        "id": "HMFu78lsNF9X",
        "outputId": "b56fa2c4-30bc-4bf3-8565-180e69a4e8e2"
      },
      "execution_count": 11,
      "outputs": [
        {
          "output_type": "execute_result",
          "data": {
            "text/plain": [
              "(64, 2560, 365)"
            ]
          },
          "metadata": {},
          "execution_count": 11
        }
      ]
    },
    {
      "cell_type": "code",
      "source": [
        "label_hand = whato10['label_hand']\n",
        "label_hand.shape"
      ],
      "metadata": {
        "colab": {
          "base_uri": "https://localhost:8080/"
        },
        "id": "tfYPoUYOMb_B",
        "outputId": "0f9502ea-34c1-483f-ecb7-e1462cac4acd"
      },
      "execution_count": 12,
      "outputs": [
        {
          "output_type": "execute_result",
          "data": {
            "text/plain": [
              "(365, 1)"
            ]
          },
          "metadata": {},
          "execution_count": 12
        }
      ]
    },
    {
      "cell_type": "code",
      "source": [
        "for i in range (256):\n",
        "  for j in range (365):\n",
        "    data[0,i,j]=data_cube[9,1740+i,j] # should change to 1740\n",
        "for i in range (256):\n",
        "  for j in range (365):\n",
        "    data[1,i,j]=data_cube[10,1740+i,j]\n",
        "for i in range (256):\n",
        "  for j in range (365):\n",
        "    data[2,i,j]=data_cube[11,1740+i,j]\n",
        "for i in range (256):\n",
        "  for j in range (365):\n",
        "    data[3,i,j]=data_cube[12,1740+i,j]\n",
        "for i in range (256):\n",
        "  for j in range (365):\n",
        "    data[4,i,j]=data_cube[13,1740+i,j]\n",
        "for i in range (256):\n",
        "  for j in range (365):\n",
        "    data[5,i,j]=data_cube[44,1740+i,j]\n",
        "for i in range (256):\n",
        "  for j in range (365):\n",
        "    data[6,i,j]=data_cube[45,1740+i,j]\n",
        "for i in range (256):\n",
        "  for j in range (365):\n",
        "    data[7,i,j]=data_cube[47,1740+i,j]\n",
        "for i in range (256):\n",
        "  for j in range (365):\n",
        "    data[8,i,j]=data_cube[48,1740+i,j]\n",
        "for i in range (256):\n",
        "  for j in range (365):\n",
        "    data[9,i,j]=data_cube[49,1740+i,j]\n",
        "for i in range (256):\n",
        "  for j in range (365):\n",
        "    data[10,i,j]=data_cube[50,1740+i,j]\n",
        "\n",
        "\n"
      ],
      "metadata": {
        "id": "rk4updtKRu7-"
      },
      "execution_count": 13,
      "outputs": []
    },
    {
      "cell_type": "code",
      "source": [
        "# Identify whether a CUDA-enabled GPU is available\n",
        "import torch\n",
        "\n",
        "if torch.cuda.is_available():\n",
        "    print('CUDA-enabled GPU found. Training should be faster.')\n",
        "else:\n",
        "    print('No GPU found. Training will be carried out on CPU, which might be '\n",
        "          'slower.\\n\\nIf running on Google Colab, you can request a GPU runtime by'\n",
        "          ' clicking\\n`Runtime/Change runtime type` in the top bar menu, then '\n",
        "          'selecting \\'GPU\\'\\nunder \\'Hardware accelerator\\'.')"
      ],
      "metadata": {
        "colab": {
          "base_uri": "https://localhost:8080/"
        },
        "id": "sCfvYex5I8dg",
        "outputId": "9de1a19b-e3a5-4fcb-a563-7a1b88896480"
      },
      "execution_count": 14,
      "outputs": [
        {
          "output_type": "stream",
          "name": "stdout",
          "text": [
            "CUDA-enabled GPU found. Training should be faster.\n"
          ]
        }
      ]
    },
    {
      "cell_type": "code",
      "source": [
        "data_re = data.reshape(-1, data.shape[-1])\n",
        "data_re.shape"
      ],
      "metadata": {
        "colab": {
          "base_uri": "https://localhost:8080/"
        },
        "id": "YMmmq0cpuEfT",
        "outputId": "26b5c122-9561-4573-aeaf-74ff4b8ade57"
      },
      "execution_count": 15,
      "outputs": [
        {
          "output_type": "execute_result",
          "data": {
            "text/plain": [
              "(3072, 365)"
            ]
          },
          "metadata": {},
          "execution_count": 15
        }
      ]
    },
    {
      "cell_type": "code",
      "source": [
        "#Maybe you should run it again\n",
        "label_hand=label_hand.T\n"
      ],
      "metadata": {
        "id": "pQjjJsNN33Nm"
      },
      "execution_count": 18,
      "outputs": []
    },
    {
      "cell_type": "code",
      "source": [
        "label_hand.shape"
      ],
      "metadata": {
        "colab": {
          "base_uri": "https://localhost:8080/"
        },
        "id": "O33kaO643-GR",
        "outputId": "83163610-8b00-4a92-b6d6-83a18828259b"
      },
      "execution_count": 19,
      "outputs": [
        {
          "output_type": "execute_result",
          "data": {
            "text/plain": [
              "(365, 1)"
            ]
          },
          "metadata": {},
          "execution_count": 19
        }
      ]
    },
    {
      "cell_type": "code",
      "source": [
        "#np.append(data_re,label_type,0)\n",
        "#concant lable type + data"
      ],
      "metadata": {
        "id": "4onF5frruSOe"
      },
      "execution_count": null,
      "outputs": []
    },
    {
      "cell_type": "code",
      "source": [
        "import pandas as pd\n",
        "df = pd.DataFrame(data_re)"
      ],
      "metadata": {
        "id": "S0ns1BT59JNU"
      },
      "execution_count": 20,
      "outputs": []
    },
    {
      "cell_type": "code",
      "source": [
        "result = pd.DataFrame(label_hand)"
      ],
      "metadata": {
        "id": "hCr_bnc89V1I"
      },
      "execution_count": 21,
      "outputs": []
    },
    {
      "cell_type": "code",
      "source": [
        "from tensorflow.keras.models import Sequential\n",
        "from tensorflow.keras.layers import Dense\n",
        "# define the keras model\n",
        "model = Sequential()\n",
        "model.add(Dense(3072, activation='relu'))\n",
        "model.add(Dense(2048 , activation='relu'))\n",
        "model.add(Dense(1024 , activation='relu'))\n",
        "model.add(Dense(512 , activation='relu'))\n",
        "model.add(Dense(1, activation='sigmoid'))\n",
        "# compile the keras model\n",
        "model.compile(loss='binary_crossentropy', optimizer='adam', metrics=['accuracy'])\n"
      ],
      "metadata": {
        "id": "ioNOrVcmyeZW"
      },
      "execution_count": 22,
      "outputs": []
    },
    {
      "cell_type": "code",
      "source": [
        "data_re.shape\n"
      ],
      "metadata": {
        "colab": {
          "base_uri": "https://localhost:8080/"
        },
        "id": "uRhJuvuFKygn",
        "outputId": "538a82b1-20ea-4355-aa7e-091c068b8f45"
      },
      "execution_count": 23,
      "outputs": [
        {
          "output_type": "execute_result",
          "data": {
            "text/plain": [
              "(3072, 365)"
            ]
          },
          "metadata": {},
          "execution_count": 23
        }
      ]
    },
    {
      "cell_type": "code",
      "source": [
        "data_re=data_re.T\n",
        "data_re.shape"
      ],
      "metadata": {
        "colab": {
          "base_uri": "https://localhost:8080/"
        },
        "id": "LwVck68ZK5tl",
        "outputId": "d288eaf3-61ec-401d-938f-aaeb46d893ff"
      },
      "execution_count": 25,
      "outputs": [
        {
          "output_type": "execute_result",
          "data": {
            "text/plain": [
              "(365, 3072)"
            ]
          },
          "metadata": {},
          "execution_count": 25
        }
      ]
    },
    {
      "cell_type": "code",
      "source": [
        "#fit the keras model on the dataset\n",
        "model.fit(data_re, label_hand, epochs=90, batch_size=20)\n",
        "\n",
        "#evaluate the keras model\n",
        "_, accuracy = model.evaluate(data_re, label_hand) \n",
        "print('Accuracy: %.2f' % (accuracy*100))"
      ],
      "metadata": {
        "id": "2dCb-6OIjNyB"
      },
      "execution_count": null,
      "outputs": []
    },
    {
      "cell_type": "code",
      "source": [
        "model.summary()\n"
      ],
      "metadata": {
        "colab": {
          "base_uri": "https://localhost:8080/"
        },
        "id": "_79O_S-O9oqq",
        "outputId": "ff3926d5-2f9d-473e-9771-60fb7ff9f3f1"
      },
      "execution_count": null,
      "outputs": [
        {
          "output_type": "stream",
          "name": "stdout",
          "text": [
            "Model: \"sequential\"\n",
            "_________________________________________________________________\n",
            " Layer (type)                Output Shape              Param #   \n",
            "=================================================================\n",
            " dense (Dense)               (None, 3072)              9440256   \n",
            "                                                                 \n",
            " dense_1 (Dense)             (None, 2048)              6293504   \n",
            "                                                                 \n",
            " dense_2 (Dense)             (None, 1024)              2098176   \n",
            "                                                                 \n",
            " dense_3 (Dense)             (None, 512)               524800    \n",
            "                                                                 \n",
            " dense_4 (Dense)             (None, 1)                 513       \n",
            "                                                                 \n",
            "=================================================================\n",
            "Total params: 18,357,249\n",
            "Trainable params: 18,357,249\n",
            "Non-trainable params: 0\n",
            "_________________________________________________________________\n"
          ]
        }
      ]
    },
    {
      "cell_type": "code",
      "source": [
        "# Splitting data for testing"
      ],
      "metadata": {
        "id": "WIDKPp-nzhXW"
      },
      "execution_count": null,
      "outputs": []
    },
    {
      "cell_type": "code",
      "source": [
        "import numpy as np\n",
        "from sklearn.model_selection import train_test_split\n",
        "X_train, X_test, y_train, y_test = train_test_split(data_re, label_hand, test_size=0.2, random_state=20)"
      ],
      "metadata": {
        "id": "MYe8iFmgeawo"
      },
      "execution_count": 26,
      "outputs": []
    },
    {
      "cell_type": "code",
      "source": [
        "from tensorflow.keras.models import Sequential\n",
        "from tensorflow.keras.layers import Dense\n",
        "# define the keras model\n",
        "model = Sequential()\n",
        "model.add(Dense(3072, activation='relu'))\n",
        "model.add(Dense(2048 , activation='relu'))\n",
        "model.add(Dense(1024 , activation='relu'))\n",
        "model.add(Dense(512 , activation='relu'))\n",
        "model.add(Dense(1, activation='sigmoid'))\n",
        "# compile the keras model\n",
        "model.compile(loss='binary_crossentropy', optimizer='adam', metrics=['accuracy'])"
      ],
      "metadata": {
        "id": "RF-3PvNLhN3V"
      },
      "execution_count": 27,
      "outputs": []
    },
    {
      "cell_type": "code",
      "source": [
        "#fit the keras model on the dataset\n",
        "model.fit(X_train, y_train, epochs=50, batch_size=5)\n",
        "\n",
        "#evaluate the keras model\n",
        "_, accuracy = model.evaluate(X_train, y_train) \n",
        "print('Accuracy: %.2f' % (accuracy*100))"
      ],
      "metadata": {
        "id": "dcLQThlHhSUB"
      },
      "execution_count": null,
      "outputs": []
    },
    {
      "cell_type": "code",
      "source": [
        "_, accuracy = model.evaluate(X_test, y_test) \n",
        "print('Accuracy: %.2f' % (accuracy*100))"
      ],
      "metadata": {
        "colab": {
          "base_uri": "https://localhost:8080/"
        },
        "id": "TXp2Vmlvhfc1",
        "outputId": "f248f8d1-9afb-4430-d4dd-f0b537f0bed4"
      },
      "execution_count": 31,
      "outputs": [
        {
          "output_type": "stream",
          "name": "stdout",
          "text": [
            "3/3 [==============================] - 0s 5ms/step - loss: 0.6806 - accuracy: 0.6164\n",
            "Accuracy: 61.64\n"
          ]
        }
      ]
    },
    {
      "cell_type": "markdown",
      "source": [
        "the more batch size ~ the more accuracy on the training , the less accuracy on the test data "
      ],
      "metadata": {
        "id": "_lppGm7Dk1n-"
      }
    },
    {
      "cell_type": "code",
      "source": [
        "data.shape"
      ],
      "metadata": {
        "id": "4-KuaGLBjYl2",
        "colab": {
          "base_uri": "https://localhost:8080/"
        },
        "outputId": "f8109e2b-ca02-499b-aab9-b90f26132a37"
      },
      "execution_count": 32,
      "outputs": [
        {
          "output_type": "execute_result",
          "data": {
            "text/plain": [
              "(12, 256, 365)"
            ]
          },
          "metadata": {},
          "execution_count": 32
        }
      ]
    },
    {
      "cell_type": "code",
      "source": [
        "# I want to double the data by picking up even and odd indices seprately "
      ],
      "metadata": {
        "id": "FRqnuN6_kLna"
      },
      "execution_count": null,
      "outputs": []
    },
    {
      "cell_type": "code",
      "source": [
        "dataAg = np.zeros((12,128,730))"
      ],
      "metadata": {
        "id": "k_mZ2NfvkzhD"
      },
      "execution_count": 36,
      "outputs": []
    },
    {
      "cell_type": "code",
      "source": [
        "\n",
        "for i in range (365):\n",
        "  for j in range (256):\n",
        "    for z in range (12):\n",
        "      if j%2==0:\n",
        "        dataAg[z,int(j/2),i] = data[z,j,i]\n",
        "      else :\n",
        "        dataAg [z,int(j/2),365+i] = data [z,j,i]"
      ],
      "metadata": {
        "id": "cUkqH-I-lFVX"
      },
      "execution_count": 41,
      "outputs": []
    },
    {
      "cell_type": "code",
      "source": [
        "label_hand.shape"
      ],
      "metadata": {
        "colab": {
          "base_uri": "https://localhost:8080/"
        },
        "id": "82uP2EM8nKzI",
        "outputId": "7ae79f71-7683-4a8f-91c4-5b52f9df72e7"
      },
      "execution_count": 46,
      "outputs": [
        {
          "output_type": "execute_result",
          "data": {
            "text/plain": [
              "(365, 1)"
            ]
          },
          "metadata": {},
          "execution_count": 46
        }
      ]
    },
    {
      "cell_type": "code",
      "source": [
        "resultAg = np.zeros((730,1))"
      ],
      "metadata": {
        "id": "Cj7bZX15nMEM"
      },
      "execution_count": 43,
      "outputs": []
    },
    {
      "cell_type": "code",
      "source": [
        "for i in range (365):\n",
        "  resultAg [i,0] = label_hand[i,0]\n",
        "  resultAg [i+365,0] = label_hand[i,0]"
      ],
      "metadata": {
        "id": "dnwGVsa8nNpk"
      },
      "execution_count": 47,
      "outputs": []
    },
    {
      "cell_type": "code",
      "source": [
        "dataAg = dataAg.reshape(-1, dataAg.shape[-1])\n",
        "dataAg.shape"
      ],
      "metadata": {
        "colab": {
          "base_uri": "https://localhost:8080/"
        },
        "id": "tMN2Or6bp391",
        "outputId": "2c6d6567-e0ac-4c64-c61d-0ecdd6476a3a"
      },
      "execution_count": 50,
      "outputs": [
        {
          "output_type": "execute_result",
          "data": {
            "text/plain": [
              "(1536, 730)"
            ]
          },
          "metadata": {},
          "execution_count": 50
        }
      ]
    },
    {
      "cell_type": "code",
      "source": [
        "dataAg= dataAg.T\n",
        "dataAg.shape"
      ],
      "metadata": {
        "colab": {
          "base_uri": "https://localhost:8080/"
        },
        "id": "ZFTCwFO3qSwP",
        "outputId": "7de80396-07c0-4f1c-dc72-0585063a15db"
      },
      "execution_count": 54,
      "outputs": [
        {
          "output_type": "execute_result",
          "data": {
            "text/plain": [
              "(730, 1536)"
            ]
          },
          "metadata": {},
          "execution_count": 54
        }
      ]
    },
    {
      "cell_type": "code",
      "source": [
        "resultAg.shape"
      ],
      "metadata": {
        "colab": {
          "base_uri": "https://localhost:8080/"
        },
        "id": "mwMaKC4NqJQu",
        "outputId": "38631bc8-09af-4acb-87b6-f97fdc027cc6"
      },
      "execution_count": 52,
      "outputs": [
        {
          "output_type": "execute_result",
          "data": {
            "text/plain": [
              "(730, 1)"
            ]
          },
          "metadata": {},
          "execution_count": 52
        }
      ]
    },
    {
      "cell_type": "code",
      "source": [
        "X_train, X_test, y_train, y_test = train_test_split(dataAg, resultAg, test_size=0.2, random_state=20)"
      ],
      "metadata": {
        "id": "-T3HDEVmpUnC"
      },
      "execution_count": 55,
      "outputs": []
    },
    {
      "cell_type": "code",
      "source": [
        "from tensorflow.keras.models import Sequential\n",
        "from tensorflow.keras.layers import Dense\n",
        "# define the keras model\n",
        "model = Sequential()\n",
        "model.add(Dense(1536, activation='relu'))\n",
        "model.add(Dense(1025 , activation='relu'))\n",
        "model.add(Dense(512 , activation='relu'))\n",
        "model.add(Dense(256 , activation='relu'))\n",
        "model.add(Dense(64 , activation='relu'))\n",
        "model.add(Dense(1, activation='sigmoid'))\n",
        "# compile the keras model\n",
        "model.compile(loss='binary_crossentropy', optimizer='adam', metrics=['accuracy'])\n"
      ],
      "metadata": {
        "id": "u1x_5osipvEu"
      },
      "execution_count": 65,
      "outputs": []
    },
    {
      "cell_type": "code",
      "source": [
        "#fit the keras model on the dataset\n",
        "model.fit(X_train, y_train, epochs=100, batch_size=20)\n",
        "\n",
        "#evaluate the keras model\n",
        "_, accuracy = model.evaluate(X_train, y_train) \n",
        "print('Accuracy: %.2f' % (accuracy*100))"
      ],
      "metadata": {
        "colab": {
          "base_uri": "https://localhost:8080/"
        },
        "id": "VZUzXdGfq0Rg",
        "outputId": "527453f0-3b2f-492f-92e0-0da6165d6608"
      },
      "execution_count": 70,
      "outputs": [
        {
          "output_type": "stream",
          "name": "stdout",
          "text": [
            "Epoch 1/100\n",
            "12/12 [==============================] - 0s 6ms/step - loss: 6.1110e-08 - accuracy: 1.0000\n",
            "Epoch 2/100\n",
            "12/12 [==============================] - 0s 5ms/step - loss: 6.0341e-08 - accuracy: 1.0000\n",
            "Epoch 3/100\n",
            "12/12 [==============================] - 0s 6ms/step - loss: 5.9582e-08 - accuracy: 1.0000\n",
            "Epoch 4/100\n",
            "12/12 [==============================] - 0s 8ms/step - loss: 5.8820e-08 - accuracy: 1.0000\n",
            "Epoch 5/100\n",
            "12/12 [==============================] - 0s 8ms/step - loss: 5.8194e-08 - accuracy: 1.0000\n",
            "Epoch 6/100\n",
            "12/12 [==============================] - 0s 8ms/step - loss: 5.7436e-08 - accuracy: 1.0000\n",
            "Epoch 7/100\n",
            "12/12 [==============================] - 0s 8ms/step - loss: 5.6815e-08 - accuracy: 1.0000\n",
            "Epoch 8/100\n",
            "12/12 [==============================] - 0s 5ms/step - loss: 5.6020e-08 - accuracy: 1.0000\n",
            "Epoch 9/100\n",
            "12/12 [==============================] - 0s 5ms/step - loss: 5.5413e-08 - accuracy: 1.0000\n",
            "Epoch 10/100\n",
            "12/12 [==============================] - 0s 5ms/step - loss: 5.4708e-08 - accuracy: 1.0000\n",
            "Epoch 11/100\n",
            "12/12 [==============================] - 0s 5ms/step - loss: 5.4116e-08 - accuracy: 1.0000\n",
            "Epoch 12/100\n",
            "12/12 [==============================] - 0s 6ms/step - loss: 5.3507e-08 - accuracy: 1.0000\n",
            "Epoch 13/100\n",
            "12/12 [==============================] - 0s 6ms/step - loss: 5.2837e-08 - accuracy: 1.0000\n",
            "Epoch 14/100\n",
            "12/12 [==============================] - 0s 6ms/step - loss: 5.2212e-08 - accuracy: 1.0000\n",
            "Epoch 15/100\n",
            "12/12 [==============================] - 0s 7ms/step - loss: 5.1681e-08 - accuracy: 1.0000\n",
            "Epoch 16/100\n",
            "12/12 [==============================] - 0s 7ms/step - loss: 5.0865e-08 - accuracy: 1.0000\n",
            "Epoch 17/100\n",
            "12/12 [==============================] - 0s 7ms/step - loss: 5.0162e-08 - accuracy: 1.0000\n",
            "Epoch 18/100\n",
            "12/12 [==============================] - 0s 8ms/step - loss: 4.9402e-08 - accuracy: 1.0000\n",
            "Epoch 19/100\n",
            "12/12 [==============================] - 0s 7ms/step - loss: 4.8711e-08 - accuracy: 1.0000\n",
            "Epoch 20/100\n",
            "12/12 [==============================] - 0s 7ms/step - loss: 4.8085e-08 - accuracy: 1.0000\n",
            "Epoch 21/100\n",
            "12/12 [==============================] - 0s 7ms/step - loss: 4.7374e-08 - accuracy: 1.0000\n",
            "Epoch 22/100\n",
            "12/12 [==============================] - 0s 6ms/step - loss: 4.6684e-08 - accuracy: 1.0000\n",
            "Epoch 23/100\n",
            "12/12 [==============================] - 0s 7ms/step - loss: 4.6086e-08 - accuracy: 1.0000\n",
            "Epoch 24/100\n",
            "12/12 [==============================] - 0s 7ms/step - loss: 4.5433e-08 - accuracy: 1.0000\n",
            "Epoch 25/100\n",
            "12/12 [==============================] - 0s 7ms/step - loss: 4.4691e-08 - accuracy: 1.0000\n",
            "Epoch 26/100\n",
            "12/12 [==============================] - 0s 7ms/step - loss: 4.4240e-08 - accuracy: 1.0000\n",
            "Epoch 27/100\n",
            "12/12 [==============================] - 0s 7ms/step - loss: 4.3429e-08 - accuracy: 1.0000\n",
            "Epoch 28/100\n",
            "12/12 [==============================] - 0s 7ms/step - loss: 4.2899e-08 - accuracy: 1.0000\n",
            "Epoch 29/100\n",
            "12/12 [==============================] - 0s 7ms/step - loss: 4.2259e-08 - accuracy: 1.0000\n",
            "Epoch 30/100\n",
            "12/12 [==============================] - 0s 7ms/step - loss: 4.1764e-08 - accuracy: 1.0000\n",
            "Epoch 31/100\n",
            "12/12 [==============================] - 0s 6ms/step - loss: 4.1157e-08 - accuracy: 1.0000\n",
            "Epoch 32/100\n",
            "12/12 [==============================] - 0s 7ms/step - loss: 4.0632e-08 - accuracy: 1.0000\n",
            "Epoch 33/100\n",
            "12/12 [==============================] - 0s 7ms/step - loss: 4.0051e-08 - accuracy: 1.0000\n",
            "Epoch 34/100\n",
            "12/12 [==============================] - 0s 7ms/step - loss: 3.9629e-08 - accuracy: 1.0000\n",
            "Epoch 35/100\n",
            "12/12 [==============================] - 0s 7ms/step - loss: 3.9013e-08 - accuracy: 1.0000\n",
            "Epoch 36/100\n",
            "12/12 [==============================] - 0s 7ms/step - loss: 3.8555e-08 - accuracy: 1.0000\n",
            "Epoch 37/100\n",
            "12/12 [==============================] - 0s 7ms/step - loss: 3.8033e-08 - accuracy: 1.0000\n",
            "Epoch 38/100\n",
            "12/12 [==============================] - 0s 7ms/step - loss: 3.7649e-08 - accuracy: 1.0000\n",
            "Epoch 39/100\n",
            "12/12 [==============================] - 0s 7ms/step - loss: 3.7100e-08 - accuracy: 1.0000\n",
            "Epoch 40/100\n",
            "12/12 [==============================] - 0s 7ms/step - loss: 3.6581e-08 - accuracy: 1.0000\n",
            "Epoch 41/100\n",
            "12/12 [==============================] - 0s 8ms/step - loss: 3.6216e-08 - accuracy: 1.0000\n",
            "Epoch 42/100\n",
            "12/12 [==============================] - 0s 8ms/step - loss: 3.5720e-08 - accuracy: 1.0000\n",
            "Epoch 43/100\n",
            "12/12 [==============================] - 0s 7ms/step - loss: 3.5276e-08 - accuracy: 1.0000\n",
            "Epoch 44/100\n",
            "12/12 [==============================] - 0s 8ms/step - loss: 3.4858e-08 - accuracy: 1.0000\n",
            "Epoch 45/100\n",
            "12/12 [==============================] - 0s 9ms/step - loss: 3.4443e-08 - accuracy: 1.0000\n",
            "Epoch 46/100\n",
            "12/12 [==============================] - 0s 8ms/step - loss: 3.4011e-08 - accuracy: 1.0000\n",
            "Epoch 47/100\n",
            "12/12 [==============================] - 0s 8ms/step - loss: 3.3573e-08 - accuracy: 1.0000\n",
            "Epoch 48/100\n",
            "12/12 [==============================] - 0s 8ms/step - loss: 3.3171e-08 - accuracy: 1.0000\n",
            "Epoch 49/100\n",
            "12/12 [==============================] - 0s 7ms/step - loss: 3.2778e-08 - accuracy: 1.0000\n",
            "Epoch 50/100\n",
            "12/12 [==============================] - 0s 8ms/step - loss: 3.2319e-08 - accuracy: 1.0000\n",
            "Epoch 51/100\n",
            "12/12 [==============================] - 0s 8ms/step - loss: 3.1975e-08 - accuracy: 1.0000\n",
            "Epoch 52/100\n",
            "12/12 [==============================] - 0s 8ms/step - loss: 3.1555e-08 - accuracy: 1.0000\n",
            "Epoch 53/100\n",
            "12/12 [==============================] - 0s 7ms/step - loss: 3.1196e-08 - accuracy: 1.0000\n",
            "Epoch 54/100\n",
            "12/12 [==============================] - 0s 7ms/step - loss: 3.0645e-08 - accuracy: 1.0000\n",
            "Epoch 55/100\n",
            "12/12 [==============================] - 0s 7ms/step - loss: 3.0226e-08 - accuracy: 1.0000\n",
            "Epoch 56/100\n",
            "12/12 [==============================] - 0s 7ms/step - loss: 2.9860e-08 - accuracy: 1.0000\n",
            "Epoch 57/100\n",
            "12/12 [==============================] - 0s 6ms/step - loss: 2.9456e-08 - accuracy: 1.0000\n",
            "Epoch 58/100\n",
            "12/12 [==============================] - 0s 5ms/step - loss: 2.9000e-08 - accuracy: 1.0000\n",
            "Epoch 59/100\n",
            "12/12 [==============================] - 0s 5ms/step - loss: 2.8669e-08 - accuracy: 1.0000\n",
            "Epoch 60/100\n",
            "12/12 [==============================] - 0s 7ms/step - loss: 2.8303e-08 - accuracy: 1.0000\n",
            "Epoch 61/100\n",
            "12/12 [==============================] - 0s 6ms/step - loss: 2.7930e-08 - accuracy: 1.0000\n",
            "Epoch 62/100\n",
            "12/12 [==============================] - 0s 6ms/step - loss: 2.7581e-08 - accuracy: 1.0000\n",
            "Epoch 63/100\n",
            "12/12 [==============================] - 0s 6ms/step - loss: 2.7256e-08 - accuracy: 1.0000\n",
            "Epoch 64/100\n",
            "12/12 [==============================] - 0s 6ms/step - loss: 2.6915e-08 - accuracy: 1.0000\n",
            "Epoch 65/100\n",
            "12/12 [==============================] - 0s 6ms/step - loss: 2.6613e-08 - accuracy: 1.0000\n",
            "Epoch 66/100\n",
            "12/12 [==============================] - 0s 6ms/step - loss: 2.6258e-08 - accuracy: 1.0000\n",
            "Epoch 67/100\n",
            "12/12 [==============================] - 0s 5ms/step - loss: 2.5940e-08 - accuracy: 1.0000\n",
            "Epoch 68/100\n",
            "12/12 [==============================] - 0s 6ms/step - loss: 2.5676e-08 - accuracy: 1.0000\n",
            "Epoch 69/100\n",
            "12/12 [==============================] - 0s 5ms/step - loss: 2.5341e-08 - accuracy: 1.0000\n",
            "Epoch 70/100\n",
            "12/12 [==============================] - 0s 5ms/step - loss: 2.5022e-08 - accuracy: 1.0000\n",
            "Epoch 71/100\n",
            "12/12 [==============================] - 0s 6ms/step - loss: 2.4685e-08 - accuracy: 1.0000\n",
            "Epoch 72/100\n",
            "12/12 [==============================] - 0s 6ms/step - loss: 2.4403e-08 - accuracy: 1.0000\n",
            "Epoch 73/100\n",
            "12/12 [==============================] - 0s 5ms/step - loss: 2.4159e-08 - accuracy: 1.0000\n",
            "Epoch 74/100\n",
            "12/12 [==============================] - 0s 5ms/step - loss: 2.3841e-08 - accuracy: 1.0000\n",
            "Epoch 75/100\n",
            "12/12 [==============================] - 0s 5ms/step - loss: 2.3560e-08 - accuracy: 1.0000\n",
            "Epoch 76/100\n",
            "12/12 [==============================] - 0s 5ms/step - loss: 2.3289e-08 - accuracy: 1.0000\n",
            "Epoch 77/100\n",
            "12/12 [==============================] - 0s 6ms/step - loss: 2.3026e-08 - accuracy: 1.0000\n",
            "Epoch 78/100\n",
            "12/12 [==============================] - 0s 5ms/step - loss: 2.2749e-08 - accuracy: 1.0000\n",
            "Epoch 79/100\n",
            "12/12 [==============================] - 0s 5ms/step - loss: 2.2521e-08 - accuracy: 1.0000\n",
            "Epoch 80/100\n",
            "12/12 [==============================] - 0s 5ms/step - loss: 2.2279e-08 - accuracy: 1.0000\n",
            "Epoch 81/100\n",
            "12/12 [==============================] - 0s 5ms/step - loss: 2.2036e-08 - accuracy: 1.0000\n",
            "Epoch 82/100\n",
            "12/12 [==============================] - 0s 5ms/step - loss: 2.1781e-08 - accuracy: 1.0000\n",
            "Epoch 83/100\n",
            "12/12 [==============================] - 0s 5ms/step - loss: 2.1552e-08 - accuracy: 1.0000\n",
            "Epoch 84/100\n",
            "12/12 [==============================] - 0s 5ms/step - loss: 2.1312e-08 - accuracy: 1.0000\n",
            "Epoch 85/100\n",
            "12/12 [==============================] - 0s 6ms/step - loss: 2.1071e-08 - accuracy: 1.0000\n",
            "Epoch 86/100\n",
            "12/12 [==============================] - 0s 6ms/step - loss: 2.0880e-08 - accuracy: 1.0000\n",
            "Epoch 87/100\n",
            "12/12 [==============================] - 0s 5ms/step - loss: 2.0644e-08 - accuracy: 1.0000\n",
            "Epoch 88/100\n",
            "12/12 [==============================] - 0s 5ms/step - loss: 2.0426e-08 - accuracy: 1.0000\n",
            "Epoch 89/100\n",
            "12/12 [==============================] - 0s 5ms/step - loss: 2.0215e-08 - accuracy: 1.0000\n",
            "Epoch 90/100\n",
            "12/12 [==============================] - 0s 5ms/step - loss: 2.0021e-08 - accuracy: 1.0000\n",
            "Epoch 91/100\n",
            "12/12 [==============================] - 0s 5ms/step - loss: 1.9794e-08 - accuracy: 1.0000\n",
            "Epoch 92/100\n",
            "12/12 [==============================] - 0s 5ms/step - loss: 1.9600e-08 - accuracy: 1.0000\n",
            "Epoch 93/100\n",
            "12/12 [==============================] - 0s 5ms/step - loss: 1.9396e-08 - accuracy: 1.0000\n",
            "Epoch 94/100\n",
            "12/12 [==============================] - 0s 5ms/step - loss: 1.9190e-08 - accuracy: 1.0000\n",
            "Epoch 95/100\n",
            "12/12 [==============================] - 0s 6ms/step - loss: 1.9011e-08 - accuracy: 1.0000\n",
            "Epoch 96/100\n",
            "12/12 [==============================] - 0s 5ms/step - loss: 1.8812e-08 - accuracy: 1.0000\n",
            "Epoch 97/100\n",
            "12/12 [==============================] - 0s 6ms/step - loss: 1.8616e-08 - accuracy: 1.0000\n",
            "Epoch 98/100\n",
            "12/12 [==============================] - 0s 6ms/step - loss: 1.8427e-08 - accuracy: 1.0000\n",
            "Epoch 99/100\n",
            "12/12 [==============================] - 0s 6ms/step - loss: 1.8225e-08 - accuracy: 1.0000\n",
            "Epoch 100/100\n",
            "12/12 [==============================] - 0s 5ms/step - loss: 1.8055e-08 - accuracy: 1.0000\n",
            "19/19 [==============================] - 0s 4ms/step - loss: 1.7949e-08 - accuracy: 1.0000\n",
            "Accuracy: 100.00\n"
          ]
        }
      ]
    },
    {
      "cell_type": "code",
      "source": [
        "_, accuracy = model.evaluate(X_test, y_test) \n",
        "print('Accuracy: %.2f' % (accuracy*100))"
      ],
      "metadata": {
        "colab": {
          "base_uri": "https://localhost:8080/"
        },
        "id": "rLlfeCTsrBh_",
        "outputId": "9353d30c-6073-4ad3-9d13-9688a9667524"
      },
      "execution_count": 71,
      "outputs": [
        {
          "output_type": "stream",
          "name": "stdout",
          "text": [
            "5/5 [==============================] - 0s 4ms/step - loss: 3.7738 - accuracy: 0.8904\n",
            "Accuracy: 89.04\n"
          ]
        }
      ]
    },
    {
      "cell_type": "markdown",
      "source": [
        "Batch = 20/30/50 - Epoch 100 = > accuracy training 100 / accuracy test 89\n",
        "*italicized text*"
      ],
      "metadata": {
        "id": "A-R1Kxzir1-9"
      }
    },
    {
      "cell_type": "code",
      "source": [],
      "metadata": {
        "id": "1nngjGnPsH1t"
      },
      "execution_count": null,
      "outputs": []
    }
  ]
}