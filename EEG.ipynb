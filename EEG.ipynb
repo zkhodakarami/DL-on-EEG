{
  "nbformat": 4,
  "nbformat_minor": 0,
  "metadata": {
    "colab": {
      "provenance": [],
      "include_colab_link": true
    },
    "kernelspec": {
      "name": "python3",
      "display_name": "Python 3"
    },
    "language_info": {
      "name": "python"
    },
    "accelerator": "GPU",
    "gpuClass": "standard"
  },
  "cells": [
    {
      "cell_type": "markdown",
      "metadata": {
        "id": "view-in-github",
        "colab_type": "text"
      },
      "source": [
        "<a href=\"https://colab.research.google.com/github/zkhodakarami/DL-on-EEG/blob/main/EEG.ipynb\" target=\"_parent\"><img src=\"https://colab.research.google.com/assets/colab-badge.svg\" alt=\"Open In Colab\"/></a>"
      ]
    },
    {
      "cell_type": "code",
      "source": [
        "from google.colab import drive\n",
        "drive.mount('/content/drive')"
      ],
      "metadata": {
        "colab": {
          "base_uri": "https://localhost:8080/"
        },
        "id": "jmTryUPBBY3l",
        "outputId": "8117c77a-d2e3-43ea-c235-e3f4d9c61b8d"
      },
      "execution_count": null,
      "outputs": [
        {
          "output_type": "stream",
          "name": "stdout",
          "text": [
            "Drive already mounted at /content/drive; to attempt to forcibly remount, call drive.mount(\"/content/drive\", force_remount=True).\n"
          ]
        }
      ]
    },
    {
      "cell_type": "code",
      "source": [
        "# SOLUTION TO LOAD DATA\n",
        "\n",
        "import scipy.io as sio\n",
        "\n",
        "data_v6 = sio.loadmat('/content/drive/MyDrive/data_for_zahra/data_cube_v6.mat') ## CHANGE THIS PATH TO WHERE THE FILE SHOULD BE"
      ],
      "metadata": {
        "id": "LOtrTK66RLaR"
      },
      "execution_count": null,
      "outputs": []
    },
    {
      "cell_type": "code",
      "source": [
        "print(data_v6.keys())"
      ],
      "metadata": {
        "colab": {
          "base_uri": "https://localhost:8080/"
        },
        "id": "VT53t8ViJB5c",
        "outputId": "1aa8c204-513a-4c50-93ce-a12414adb805"
      },
      "execution_count": null,
      "outputs": [
        {
          "output_type": "stream",
          "name": "stdout",
          "text": [
            "dict_keys(['__header__', '__version__', '__globals__', 'data_cube'])\n"
          ]
        }
      ]
    },
    {
      "cell_type": "code",
      "source": [],
      "metadata": {
        "id": "IJzZzHVkR_yb"
      },
      "execution_count": null,
      "outputs": []
    },
    {
      "cell_type": "code",
      "source": [
        "df = data_v6['data_cube']\n",
        "df.shape"
      ],
      "metadata": {
        "colab": {
          "base_uri": "https://localhost:8080/"
        },
        "id": "12hOl9ctSEQe",
        "outputId": "35c90790-7f95-433f-fa9e-8f338d024099"
      },
      "execution_count": null,
      "outputs": [
        {
          "output_type": "execute_result",
          "data": {
            "text/plain": [
              "(64, 2560, 372)"
            ]
          },
          "metadata": {},
          "execution_count": 44
        }
      ]
    },
    {
      "cell_type": "code",
      "source": [
        "df[10,2559,7]"
      ],
      "metadata": {
        "id": "QbvQzgnfC_HR",
        "colab": {
          "base_uri": "https://localhost:8080/"
        },
        "outputId": "cf34c45c-8d17-454f-d8dd-b59f3af30a47"
      },
      "execution_count": null,
      "outputs": [
        {
          "output_type": "execute_result",
          "data": {
            "text/plain": [
              "10.195202412565258"
            ]
          },
          "metadata": {},
          "execution_count": 45
        }
      ]
    },
    {
      "cell_type": "code",
      "source": [
        "lable_hand2 = sio.loadmat('/content/drive/MyDrive/data_for_zahra/old/test_data_labelhand_mat.mat')"
      ],
      "metadata": {
        "id": "ZPZeKwJ8H__G"
      },
      "execution_count": null,
      "outputs": []
    },
    {
      "cell_type": "code",
      "source": [
        "print(lable_hand2.keys())"
      ],
      "metadata": {
        "colab": {
          "base_uri": "https://localhost:8080/"
        },
        "id": "Tos0SpCpKK-7",
        "outputId": "7a45140e-a11d-48e9-e739-ac2e80a21e85"
      },
      "execution_count": null,
      "outputs": [
        {
          "output_type": "stream",
          "name": "stdout",
          "text": [
            "dict_keys(['__header__', '__version__', '__globals__', 'label_hand'])\n"
          ]
        }
      ]
    },
    {
      "cell_type": "code",
      "source": [
        "df2 = lable_hand2['label_hand']\n",
        "df2.shape"
      ],
      "metadata": {
        "colab": {
          "base_uri": "https://localhost:8080/"
        },
        "id": "OEVeEakuIPj_",
        "outputId": "d1d21d63-355f-4a27-a8d5-eecc0f5e2bd7"
      },
      "execution_count": null,
      "outputs": [
        {
          "output_type": "execute_result",
          "data": {
            "text/plain": [
              "(356, 1)"
            ]
          },
          "metadata": {},
          "execution_count": 48
        }
      ]
    },
    {
      "cell_type": "code",
      "source": [
        "print(df2[1])"
      ],
      "metadata": {
        "colab": {
          "base_uri": "https://localhost:8080/"
        },
        "id": "jOh4mGtjKlpu",
        "outputId": "18dd5214-280a-4a4e-82d6-6d8c013cf1e9"
      },
      "execution_count": null,
      "outputs": [
        {
          "output_type": "stream",
          "name": "stdout",
          "text": [
            "[1]\n"
          ]
        }
      ]
    },
    {
      "cell_type": "code",
      "source": [
        "data_test = sio.loadmat('/content/drive/MyDrive/data_for_zahra/old/data_test_version7.mat')\n",
        "print(data_test.keys())"
      ],
      "metadata": {
        "colab": {
          "base_uri": "https://localhost:8080/"
        },
        "id": "17qgUhB7LIlS",
        "outputId": "44293c10-4a58-44e4-f99b-e4580796554a"
      },
      "execution_count": null,
      "outputs": [
        {
          "output_type": "stream",
          "name": "stdout",
          "text": [
            "dict_keys(['__header__', '__version__', '__globals__', 'data_cube', 'label_channel', 'label_hand', 'label_type', 'num_kept'])\n"
          ]
        }
      ]
    },
    {
      "cell_type": "code",
      "source": [
        "label_channel = data_test['label_channel']\n",
        "label_channel.shape"
      ],
      "metadata": {
        "colab": {
          "base_uri": "https://localhost:8080/"
        },
        "id": "Sd8V8VOZLyzp",
        "outputId": "bf9973be-b628-44f9-d858-1c210f47fbf0"
      },
      "execution_count": null,
      "outputs": [
        {
          "output_type": "execute_result",
          "data": {
            "text/plain": [
              "(61, 1)"
            ]
          },
          "metadata": {},
          "execution_count": 51
        }
      ]
    },
    {
      "cell_type": "code",
      "source": [
        "print (label_channel)"
      ],
      "metadata": {
        "colab": {
          "base_uri": "https://localhost:8080/"
        },
        "id": "AWb_UEV8L_lK",
        "outputId": "c0859de4-a521-46a9-e9ac-9d051062e0c8"
      },
      "execution_count": null,
      "outputs": [
        {
          "output_type": "stream",
          "name": "stdout",
          "text": [
            "[[array(['Fp1'], dtype='<U3')]\n",
            " [array(['Fz'], dtype='<U2')]\n",
            " [array(['F3'], dtype='<U2')]\n",
            " [array(['F7'], dtype='<U2')]\n",
            " [array(['FT9'], dtype='<U3')]\n",
            " [array(['FC5'], dtype='<U3')]\n",
            " [array(['FC1'], dtype='<U3')]\n",
            " [array(['C3'], dtype='<U2')]\n",
            " [array(['T7'], dtype='<U2')]\n",
            " [array(['TP9'], dtype='<U3')]\n",
            " [array(['CP5'], dtype='<U3')]\n",
            " [array(['CP1'], dtype='<U3')]\n",
            " [array(['Pz'], dtype='<U2')]\n",
            " [array(['P3'], dtype='<U2')]\n",
            " [array(['P7'], dtype='<U2')]\n",
            " [array(['O1'], dtype='<U2')]\n",
            " [array(['O2'], dtype='<U2')]\n",
            " [array(['P4'], dtype='<U2')]\n",
            " [array(['P8'], dtype='<U2')]\n",
            " [array(['TP10'], dtype='<U4')]\n",
            " [array(['CP6'], dtype='<U3')]\n",
            " [array(['CP2'], dtype='<U3')]\n",
            " [array(['Cz'], dtype='<U2')]\n",
            " [array(['C4'], dtype='<U2')]\n",
            " [array(['T8'], dtype='<U2')]\n",
            " [array(['FT10'], dtype='<U4')]\n",
            " [array(['FC6'], dtype='<U3')]\n",
            " [array(['FC2'], dtype='<U3')]\n",
            " [array(['F4'], dtype='<U2')]\n",
            " [array(['Fp2'], dtype='<U3')]\n",
            " [array(['AF7'], dtype='<U3')]\n",
            " [array(['AF3'], dtype='<U3')]\n",
            " [array(['AFz'], dtype='<U3')]\n",
            " [array(['F1'], dtype='<U2')]\n",
            " [array(['F5'], dtype='<U2')]\n",
            " [array(['FC3'], dtype='<U3')]\n",
            " [array(['C1'], dtype='<U2')]\n",
            " [array(['C5'], dtype='<U2')]\n",
            " [array(['TP7'], dtype='<U3')]\n",
            " [array(['CP3'], dtype='<U3')]\n",
            " [array(['P1'], dtype='<U2')]\n",
            " [array(['P5'], dtype='<U2')]\n",
            " [array(['PO7'], dtype='<U3')]\n",
            " [array(['PO3'], dtype='<U3')]\n",
            " [array(['POz'], dtype='<U3')]\n",
            " [array(['PO8'], dtype='<U3')]\n",
            " [array(['P6'], dtype='<U2')]\n",
            " [array(['P2'], dtype='<U2')]\n",
            " [array(['CPz'], dtype='<U3')]\n",
            " [array(['CP4'], dtype='<U3')]\n",
            " [array(['TP8'], dtype='<U3')]\n",
            " [array(['C6'], dtype='<U2')]\n",
            " [array(['C2'], dtype='<U2')]\n",
            " [array(['FC4'], dtype='<U3')]\n",
            " [array(['FT8'], dtype='<U3')]\n",
            " [array(['F6'], dtype='<U2')]\n",
            " [array(['AF8'], dtype='<U3')]\n",
            " [array(['AF4'], dtype='<U3')]\n",
            " [array(['F2'], dtype='<U2')]\n",
            " [array(['FCz'], dtype='<U3')]\n",
            " [array(['PO4'], dtype='<U3')]]\n"
          ]
        }
      ]
    },
    {
      "cell_type": "code",
      "source": [
        "for i in range (61):\n",
        "  if (label_channel[i] == 'C1'):\n",
        "    print (i)\n",
        "  elif (label_channel[i] == 'C2'):\n",
        "    print ( i)\n",
        "  elif (label_channel[i] == 'C3'):\n",
        "    print ( i)\n",
        "  elif (label_channel[i] == 'C4'):\n",
        "    print ( i) \n",
        "  elif (label_channel[i] == 'C5'):\n",
        "    print ( i)\n",
        "  elif (label_channel[i] == 'C6'):\n",
        "    print ( i)\n",
        "  elif (label_channel[i] == 'Cz'):\n",
        "    print ( i)\n",
        "  elif (label_channel[i] == 'FC1'):\n",
        "    print ( i)\n",
        "  elif (label_channel [i] == 'FC2'):\n",
        "    print ( i)\n",
        "  elif (label_channel[i] == 'FC3'):\n",
        "    print ( i)\n",
        "  elif (label_channel[i] == 'FC4'):\n",
        "    print ( i)"
      ],
      "metadata": {
        "colab": {
          "base_uri": "https://localhost:8080/"
        },
        "id": "NNK3xq5STRxS",
        "outputId": "ce7ef6c0-67e6-4738-a246-0ed499c2b490"
      },
      "execution_count": null,
      "outputs": [
        {
          "output_type": "stream",
          "name": "stdout",
          "text": [
            "6\n",
            "7\n",
            "22\n",
            "23\n",
            "27\n",
            "35\n",
            "36\n",
            "37\n",
            "51\n",
            "52\n",
            "53\n"
          ]
        }
      ]
    },
    {
      "cell_type": "code",
      "source": [
        "label_hand = data_test['label_hand']\n",
        "label_hand.shape"
      ],
      "metadata": {
        "colab": {
          "base_uri": "https://localhost:8080/"
        },
        "id": "tfYPoUYOMb_B",
        "outputId": "13228479-ae52-403a-fd2e-279bad32bb7d"
      },
      "execution_count": null,
      "outputs": [
        {
          "output_type": "execute_result",
          "data": {
            "text/plain": [
              "(291, 1)"
            ]
          },
          "metadata": {},
          "execution_count": 54
        }
      ]
    },
    {
      "cell_type": "code",
      "source": [
        "print(label_hand)"
      ],
      "metadata": {
        "colab": {
          "base_uri": "https://localhost:8080/"
        },
        "id": "Ph2FlBKVMp-D",
        "outputId": "72aa750d-3e1b-4054-d095-38f1cee065a3"
      },
      "execution_count": null,
      "outputs": [
        {
          "output_type": "stream",
          "name": "stdout",
          "text": [
            "[[1]\n",
            " [1]\n",
            " [0]\n",
            " [1]\n",
            " [0]\n",
            " [0]\n",
            " [0]\n",
            " [0]\n",
            " [0]\n",
            " [0]\n",
            " [0]\n",
            " [0]\n",
            " [1]\n",
            " [0]\n",
            " [0]\n",
            " [0]\n",
            " [0]\n",
            " [0]\n",
            " [0]\n",
            " [0]\n",
            " [0]\n",
            " [1]\n",
            " [1]\n",
            " [0]\n",
            " [1]\n",
            " [1]\n",
            " [1]\n",
            " [0]\n",
            " [0]\n",
            " [0]\n",
            " [0]\n",
            " [1]\n",
            " [1]\n",
            " [1]\n",
            " [1]\n",
            " [1]\n",
            " [1]\n",
            " [0]\n",
            " [0]\n",
            " [0]\n",
            " [0]\n",
            " [0]\n",
            " [0]\n",
            " [1]\n",
            " [0]\n",
            " [1]\n",
            " [1]\n",
            " [0]\n",
            " [1]\n",
            " [0]\n",
            " [1]\n",
            " [0]\n",
            " [0]\n",
            " [1]\n",
            " [0]\n",
            " [1]\n",
            " [1]\n",
            " [1]\n",
            " [0]\n",
            " [0]\n",
            " [1]\n",
            " [0]\n",
            " [1]\n",
            " [1]\n",
            " [0]\n",
            " [0]\n",
            " [1]\n",
            " [1]\n",
            " [0]\n",
            " [0]\n",
            " [0]\n",
            " [1]\n",
            " [0]\n",
            " [1]\n",
            " [0]\n",
            " [1]\n",
            " [1]\n",
            " [1]\n",
            " [0]\n",
            " [1]\n",
            " [0]\n",
            " [1]\n",
            " [0]\n",
            " [0]\n",
            " [0]\n",
            " [0]\n",
            " [0]\n",
            " [0]\n",
            " [0]\n",
            " [0]\n",
            " [0]\n",
            " [0]\n",
            " [0]\n",
            " [0]\n",
            " [0]\n",
            " [0]\n",
            " [0]\n",
            " [0]\n",
            " [1]\n",
            " [0]\n",
            " [0]\n",
            " [0]\n",
            " [0]\n",
            " [0]\n",
            " [1]\n",
            " [1]\n",
            " [0]\n",
            " [1]\n",
            " [0]\n",
            " [0]\n",
            " [1]\n",
            " [1]\n",
            " [1]\n",
            " [0]\n",
            " [0]\n",
            " [1]\n",
            " [1]\n",
            " [0]\n",
            " [1]\n",
            " [1]\n",
            " [0]\n",
            " [1]\n",
            " [1]\n",
            " [0]\n",
            " [1]\n",
            " [1]\n",
            " [0]\n",
            " [0]\n",
            " [0]\n",
            " [1]\n",
            " [0]\n",
            " [0]\n",
            " [0]\n",
            " [0]\n",
            " [0]\n",
            " [0]\n",
            " [0]\n",
            " [1]\n",
            " [0]\n",
            " [0]\n",
            " [0]\n",
            " [1]\n",
            " [0]\n",
            " [0]\n",
            " [0]\n",
            " [1]\n",
            " [1]\n",
            " [1]\n",
            " [1]\n",
            " [1]\n",
            " [1]\n",
            " [1]\n",
            " [1]\n",
            " [1]\n",
            " [1]\n",
            " [1]\n",
            " [0]\n",
            " [0]\n",
            " [1]\n",
            " [0]\n",
            " [1]\n",
            " [1]\n",
            " [1]\n",
            " [0]\n",
            " [1]\n",
            " [1]\n",
            " [1]\n",
            " [1]\n",
            " [1]\n",
            " [1]\n",
            " [1]\n",
            " [0]\n",
            " [0]\n",
            " [0]\n",
            " [0]\n",
            " [0]\n",
            " [0]\n",
            " [0]\n",
            " [0]\n",
            " [0]\n",
            " [0]\n",
            " [0]\n",
            " [0]\n",
            " [0]\n",
            " [0]\n",
            " [0]\n",
            " [0]\n",
            " [0]\n",
            " [0]\n",
            " [0]\n",
            " [0]\n",
            " [0]\n",
            " [0]\n",
            " [0]\n",
            " [0]\n",
            " [1]\n",
            " [1]\n",
            " [0]\n",
            " [0]\n",
            " [1]\n",
            " [1]\n",
            " [0]\n",
            " [1]\n",
            " [0]\n",
            " [0]\n",
            " [0]\n",
            " [1]\n",
            " [0]\n",
            " [1]\n",
            " [1]\n",
            " [0]\n",
            " [0]\n",
            " [1]\n",
            " [0]\n",
            " [1]\n",
            " [0]\n",
            " [1]\n",
            " [1]\n",
            " [1]\n",
            " [1]\n",
            " [1]\n",
            " [0]\n",
            " [1]\n",
            " [0]\n",
            " [1]\n",
            " [0]\n",
            " [1]\n",
            " [0]\n",
            " [1]\n",
            " [0]\n",
            " [1]\n",
            " [0]\n",
            " [1]\n",
            " [1]\n",
            " [1]\n",
            " [1]\n",
            " [1]\n",
            " [1]\n",
            " [0]\n",
            " [1]\n",
            " [1]\n",
            " [1]\n",
            " [1]\n",
            " [1]\n",
            " [1]\n",
            " [1]\n",
            " [1]\n",
            " [1]\n",
            " [1]\n",
            " [1]\n",
            " [1]\n",
            " [1]\n",
            " [1]\n",
            " [1]\n",
            " [1]\n",
            " [1]\n",
            " [1]\n",
            " [1]\n",
            " [0]\n",
            " [0]\n",
            " [1]\n",
            " [0]\n",
            " [1]\n",
            " [0]\n",
            " [1]\n",
            " [0]\n",
            " [0]\n",
            " [0]\n",
            " [1]\n",
            " [0]\n",
            " [1]\n",
            " [0]\n",
            " [1]\n",
            " [0]\n",
            " [1]\n",
            " [1]\n",
            " [1]\n",
            " [0]\n",
            " [1]\n",
            " [0]\n",
            " [1]\n",
            " [1]\n",
            " [1]\n",
            " [0]\n",
            " [0]\n",
            " [0]\n",
            " [0]\n",
            " [0]\n",
            " [0]\n",
            " [0]\n",
            " [0]]\n"
          ]
        }
      ]
    },
    {
      "cell_type": "code",
      "source": [
        "label_type = data_test['label_type']\n",
        "label_type.shape"
      ],
      "metadata": {
        "colab": {
          "base_uri": "https://localhost:8080/"
        },
        "id": "11N-vsbjMuyG",
        "outputId": "d6e11aa7-c193-46f7-b04f-2f0c6c81cb02"
      },
      "execution_count": null,
      "outputs": [
        {
          "output_type": "execute_result",
          "data": {
            "text/plain": [
              "(291, 1)"
            ]
          },
          "metadata": {},
          "execution_count": 56
        }
      ]
    },
    {
      "cell_type": "code",
      "source": [
        "print(label_type)"
      ],
      "metadata": {
        "colab": {
          "base_uri": "https://localhost:8080/"
        },
        "id": "KPWiMwAVNAfh",
        "outputId": "23c38860-d683-4026-bb8b-2e22c5c7db97"
      },
      "execution_count": null,
      "outputs": [
        {
          "output_type": "stream",
          "name": "stdout",
          "text": [
            "[[2]\n",
            " [2]\n",
            " [2]\n",
            " [2]\n",
            " [2]\n",
            " [2]\n",
            " [2]\n",
            " [2]\n",
            " [2]\n",
            " [2]\n",
            " [2]\n",
            " [2]\n",
            " [2]\n",
            " [2]\n",
            " [2]\n",
            " [2]\n",
            " [2]\n",
            " [2]\n",
            " [2]\n",
            " [2]\n",
            " [2]\n",
            " [2]\n",
            " [2]\n",
            " [2]\n",
            " [3]\n",
            " [3]\n",
            " [3]\n",
            " [3]\n",
            " [3]\n",
            " [3]\n",
            " [3]\n",
            " [3]\n",
            " [3]\n",
            " [3]\n",
            " [3]\n",
            " [3]\n",
            " [3]\n",
            " [3]\n",
            " [3]\n",
            " [3]\n",
            " [3]\n",
            " [3]\n",
            " [3]\n",
            " [3]\n",
            " [1]\n",
            " [1]\n",
            " [1]\n",
            " [1]\n",
            " [1]\n",
            " [1]\n",
            " [1]\n",
            " [1]\n",
            " [1]\n",
            " [1]\n",
            " [1]\n",
            " [1]\n",
            " [1]\n",
            " [1]\n",
            " [1]\n",
            " [1]\n",
            " [1]\n",
            " [1]\n",
            " [1]\n",
            " [1]\n",
            " [1]\n",
            " [3]\n",
            " [3]\n",
            " [3]\n",
            " [3]\n",
            " [3]\n",
            " [3]\n",
            " [3]\n",
            " [3]\n",
            " [3]\n",
            " [3]\n",
            " [3]\n",
            " [3]\n",
            " [3]\n",
            " [3]\n",
            " [3]\n",
            " [3]\n",
            " [3]\n",
            " [3]\n",
            " [3]\n",
            " [3]\n",
            " [3]\n",
            " [2]\n",
            " [2]\n",
            " [2]\n",
            " [2]\n",
            " [2]\n",
            " [2]\n",
            " [2]\n",
            " [2]\n",
            " [2]\n",
            " [2]\n",
            " [2]\n",
            " [2]\n",
            " [2]\n",
            " [2]\n",
            " [2]\n",
            " [2]\n",
            " [2]\n",
            " [2]\n",
            " [1]\n",
            " [1]\n",
            " [1]\n",
            " [1]\n",
            " [1]\n",
            " [1]\n",
            " [1]\n",
            " [1]\n",
            " [1]\n",
            " [1]\n",
            " [1]\n",
            " [1]\n",
            " [1]\n",
            " [1]\n",
            " [1]\n",
            " [1]\n",
            " [1]\n",
            " [1]\n",
            " [1]\n",
            " [1]\n",
            " [2]\n",
            " [2]\n",
            " [2]\n",
            " [2]\n",
            " [2]\n",
            " [2]\n",
            " [2]\n",
            " [2]\n",
            " [2]\n",
            " [2]\n",
            " [2]\n",
            " [2]\n",
            " [2]\n",
            " [2]\n",
            " [2]\n",
            " [2]\n",
            " [3]\n",
            " [3]\n",
            " [3]\n",
            " [3]\n",
            " [3]\n",
            " [3]\n",
            " [3]\n",
            " [3]\n",
            " [3]\n",
            " [3]\n",
            " [3]\n",
            " [3]\n",
            " [3]\n",
            " [3]\n",
            " [3]\n",
            " [1]\n",
            " [1]\n",
            " [1]\n",
            " [1]\n",
            " [1]\n",
            " [1]\n",
            " [1]\n",
            " [1]\n",
            " [1]\n",
            " [1]\n",
            " [1]\n",
            " [1]\n",
            " [1]\n",
            " [1]\n",
            " [1]\n",
            " [1]\n",
            " [1]\n",
            " [3]\n",
            " [3]\n",
            " [3]\n",
            " [3]\n",
            " [3]\n",
            " [3]\n",
            " [3]\n",
            " [3]\n",
            " [3]\n",
            " [3]\n",
            " [3]\n",
            " [3]\n",
            " [3]\n",
            " [3]\n",
            " [3]\n",
            " [3]\n",
            " [3]\n",
            " [3]\n",
            " [3]\n",
            " [3]\n",
            " [3]\n",
            " [3]\n",
            " [3]\n",
            " [1]\n",
            " [1]\n",
            " [1]\n",
            " [1]\n",
            " [1]\n",
            " [1]\n",
            " [1]\n",
            " [1]\n",
            " [1]\n",
            " [1]\n",
            " [1]\n",
            " [1]\n",
            " [1]\n",
            " [1]\n",
            " [1]\n",
            " [1]\n",
            " [1]\n",
            " [1]\n",
            " [1]\n",
            " [1]\n",
            " [1]\n",
            " [1]\n",
            " [2]\n",
            " [2]\n",
            " [2]\n",
            " [2]\n",
            " [2]\n",
            " [2]\n",
            " [2]\n",
            " [2]\n",
            " [2]\n",
            " [2]\n",
            " [2]\n",
            " [2]\n",
            " [2]\n",
            " [2]\n",
            " [2]\n",
            " [2]\n",
            " [2]\n",
            " [2]\n",
            " [2]\n",
            " [2]\n",
            " [2]\n",
            " [2]\n",
            " [2]\n",
            " [2]\n",
            " [2]\n",
            " [2]\n",
            " [2]\n",
            " [2]\n",
            " [2]\n",
            " [2]\n",
            " [2]\n",
            " [2]\n",
            " [2]\n",
            " [2]\n",
            " [2]\n",
            " [2]\n",
            " [2]\n",
            " [2]\n",
            " [2]\n",
            " [2]\n",
            " [2]\n",
            " [2]\n",
            " [2]\n",
            " [2]\n",
            " [1]\n",
            " [1]\n",
            " [1]\n",
            " [1]\n",
            " [1]\n",
            " [1]\n",
            " [1]\n",
            " [1]\n",
            " [1]\n",
            " [1]\n",
            " [1]\n",
            " [1]\n",
            " [1]\n",
            " [1]\n",
            " [1]\n",
            " [1]\n",
            " [1]\n",
            " [1]\n",
            " [1]\n",
            " [1]\n",
            " [3]\n",
            " [3]\n",
            " [3]\n",
            " [3]\n",
            " [3]\n",
            " [3]\n",
            " [3]\n",
            " [3]\n",
            " [3]\n",
            " [3]]\n"
          ]
        }
      ]
    },
    {
      "cell_type": "code",
      "source": [
        "data_cube = data_test['data_cube']\n",
        "data_cube.shape"
      ],
      "metadata": {
        "colab": {
          "base_uri": "https://localhost:8080/"
        },
        "id": "HMFu78lsNF9X",
        "outputId": "9b09d4d2-25bc-4b56-b8d4-d375736dfd38"
      },
      "execution_count": null,
      "outputs": [
        {
          "output_type": "execute_result",
          "data": {
            "text/plain": [
              "(61, 2560, 291)"
            ]
          },
          "metadata": {},
          "execution_count": 58
        }
      ]
    },
    {
      "cell_type": "code",
      "source": [
        "import tensorflow as tf\n",
        "import numpy as np\n",
        "data = np.zeros((12, 256 , 291))"
      ],
      "metadata": {
        "id": "bkYxnfSoQsWg"
      },
      "execution_count": null,
      "outputs": []
    },
    {
      "cell_type": "code",
      "source": [
        "data[1,1,1]"
      ],
      "metadata": {
        "colab": {
          "base_uri": "https://localhost:8080/"
        },
        "id": "GEEfinnUy1ri",
        "outputId": "7439d0e6-aeea-427f-f7cd-baac8dd501f8"
      },
      "execution_count": null,
      "outputs": [
        {
          "output_type": "execute_result",
          "data": {
            "text/plain": [
              "0.0"
            ]
          },
          "metadata": {},
          "execution_count": 60
        }
      ]
    },
    {
      "cell_type": "markdown",
      "source": [
        "\n",
        "\n",
        "```\n",
        "6\n",
        "7\n",
        "22\n",
        "23\n",
        "27\n",
        "35\n",
        "36\n",
        "37\n",
        "51\n",
        "52\n",
        "53\n",
        "```\n",
        "\n"
      ],
      "metadata": {
        "id": "WqMiP9ZNWx71"
      }
    },
    {
      "cell_type": "code",
      "source": [
        "for i in range (256):\n",
        "  for j in range (291):\n",
        "    data[0,i,j]=data_cube[6,1485+i,j]\n",
        "for i in range (256):\n",
        "  for j in range (291):\n",
        "    data[1,i,j]=data_cube[7,1485+i,j]\n",
        "for i in range (256):\n",
        "  for j in range (291):\n",
        "    data[2,i,j]=data_cube[22,1485+i,j]\n",
        "for i in range (256):\n",
        "  for j in range (291):\n",
        "    data[3,i,j]=data_cube[23,1485+i,j]\n",
        "for i in range (256):\n",
        "  for j in range (291):\n",
        "    data[4,i,j]=data_cube[27,1485+i,j]\n",
        "for i in range (256):\n",
        "  for j in range (291):\n",
        "    data[5,i,j]=data_cube[35,1485+i,j]\n",
        "for i in range (256):\n",
        "  for j in range (291):\n",
        "    data[6,i,j]=data_cube[36,1485+i,j]\n",
        "for i in range (256):\n",
        "  for j in range (291):\n",
        "    data[7,i,j]=data_cube[37,1485+i,j]\n",
        "for i in range (256):\n",
        "  for j in range (291):\n",
        "    data[8,i,j]=data_cube[51,1485+i,j]\n",
        "for i in range (256):\n",
        "  for j in range (291):\n",
        "    data[9,i,j]=data_cube[52,1485+i,j]\n",
        "for i in range (256):\n",
        "  for j in range (291):\n",
        "    data[10,i,j]=data_cube[53,1485+i,j]\n",
        "\n",
        "\n"
      ],
      "metadata": {
        "id": "rk4updtKRu7-"
      },
      "execution_count": null,
      "outputs": []
    },
    {
      "cell_type": "code",
      "source": [
        "# Identify whether a CUDA-enabled GPU is available\n",
        "import torch\n",
        "\n",
        "if torch.cuda.is_available():\n",
        "    print('CUDA-enabled GPU found. Training should be faster.')\n",
        "else:\n",
        "    print('No GPU found. Training will be carried out on CPU, which might be '\n",
        "          'slower.\\n\\nIf running on Google Colab, you can request a GPU runtime by'\n",
        "          ' clicking\\n`Runtime/Change runtime type` in the top bar menu, then '\n",
        "          'selecting \\'GPU\\'\\nunder \\'Hardware accelerator\\'.')"
      ],
      "metadata": {
        "colab": {
          "base_uri": "https://localhost:8080/"
        },
        "id": "sCfvYex5I8dg",
        "outputId": "6abd5314-89c3-4f0c-e9a8-42ee21111c52"
      },
      "execution_count": null,
      "outputs": [
        {
          "output_type": "stream",
          "name": "stdout",
          "text": [
            "CUDA-enabled GPU found. Training should be faster.\n"
          ]
        }
      ]
    },
    {
      "cell_type": "code",
      "source": [
        "data_re = data.reshape(-1, data.shape[-1])\n",
        "data_re.shape"
      ],
      "metadata": {
        "colab": {
          "base_uri": "https://localhost:8080/"
        },
        "id": "YMmmq0cpuEfT",
        "outputId": "8ee66f4b-0059-4685-db6c-0593ff954b68"
      },
      "execution_count": null,
      "outputs": [
        {
          "output_type": "execute_result",
          "data": {
            "text/plain": [
              "(3072, 291)"
            ]
          },
          "metadata": {},
          "execution_count": 63
        }
      ]
    },
    {
      "cell_type": "code",
      "source": [
        "label_hand=label_hand.T\n"
      ],
      "metadata": {
        "id": "pQjjJsNN33Nm"
      },
      "execution_count": null,
      "outputs": []
    },
    {
      "cell_type": "code",
      "source": [
        "label_hand.shape"
      ],
      "metadata": {
        "colab": {
          "base_uri": "https://localhost:8080/"
        },
        "id": "O33kaO643-GR",
        "outputId": "ea9f6066-4c16-4734-c919-517d14d2a558"
      },
      "execution_count": null,
      "outputs": [
        {
          "output_type": "execute_result",
          "data": {
            "text/plain": [
              "(1, 291)"
            ]
          },
          "metadata": {},
          "execution_count": 65
        }
      ]
    },
    {
      "cell_type": "code",
      "source": [
        "# first 50 rows for testing"
      ],
      "metadata": {
        "id": "WIDKPp-nzhXW"
      },
      "execution_count": null,
      "outputs": []
    },
    {
      "cell_type": "code",
      "source": [
        "#np.append(data_re,label_type,0)\n",
        "#concant lable type + data"
      ],
      "metadata": {
        "id": "4onF5frruSOe"
      },
      "execution_count": null,
      "outputs": []
    },
    {
      "cell_type": "code",
      "source": [
        "import pandas as pd\n",
        "df = pd.DataFrame(data_re)"
      ],
      "metadata": {
        "id": "S0ns1BT59JNU"
      },
      "execution_count": null,
      "outputs": []
    },
    {
      "cell_type": "code",
      "source": [
        "result = pd.DataFrame(label_hand)"
      ],
      "metadata": {
        "id": "hCr_bnc89V1I"
      },
      "execution_count": null,
      "outputs": []
    },
    {
      "cell_type": "code",
      "source": [
        "from tensorflow.keras.models import Sequential\n",
        "from tensorflow.keras.layers import Dense\n",
        "# define the keras model\n",
        "model = Sequential()\n",
        "model.add(Dense(3072, activation='relu'))\n",
        "model.add(Dense(2048 , activation='relu'))\n",
        "model.add(Dense(1024 , activation='relu'))\n",
        "model.add(Dense(512 , activation='relu'))\n",
        "model.add(Dense(1, activation='sigmoid'))\n",
        "# compile the keras model\n",
        "model.compile(loss='binary_crossentropy', optimizer='adam', metrics=['accuracy'])\n"
      ],
      "metadata": {
        "id": "ioNOrVcmyeZW"
      },
      "execution_count": null,
      "outputs": []
    },
    {
      "cell_type": "code",
      "source": [
        "data_re.shape\n"
      ],
      "metadata": {
        "colab": {
          "base_uri": "https://localhost:8080/"
        },
        "id": "uRhJuvuFKygn",
        "outputId": "e5cc94ae-0c87-4acd-ca7d-07ed2244d3bc"
      },
      "execution_count": null,
      "outputs": [
        {
          "output_type": "execute_result",
          "data": {
            "text/plain": [
              "(291, 3072)"
            ]
          },
          "metadata": {},
          "execution_count": 83
        }
      ]
    },
    {
      "cell_type": "code",
      "source": [
        "label_hand=label_hand.T\n",
        "label_hand.shape"
      ],
      "metadata": {
        "colab": {
          "base_uri": "https://localhost:8080/"
        },
        "id": "LwVck68ZK5tl",
        "outputId": "14d488f6-9eda-438e-b6d1-aca4aa1f217e"
      },
      "execution_count": null,
      "outputs": [
        {
          "output_type": "execute_result",
          "data": {
            "text/plain": [
              "(291, 1)"
            ]
          },
          "metadata": {},
          "execution_count": 79
        }
      ]
    },
    {
      "cell_type": "code",
      "source": [
        "# fit the keras model on the dataset\n",
        "model.fit(data_re, label_hand, epochs=100, batch_size=10)\n",
        "# evaluate the keras model\n",
        "_, accuracy = model.evaluate(data_re, label_hand)\n",
        "print('Accuracy: %.2f' % (accuracy*100))"
      ],
      "metadata": {
        "colab": {
          "base_uri": "https://localhost:8080/"
        },
        "id": "yxgRnvYb9oXL",
        "outputId": "57aa1ccb-dcd4-49a4-a26b-b4933c87777d"
      },
      "execution_count": null,
      "outputs": [
        {
          "output_type": "stream",
          "name": "stdout",
          "text": [
            "Epoch 1/100\n",
            "30/30 [==============================] - 1s 7ms/step - loss: 191.8214 - accuracy: 0.5052\n",
            "Epoch 2/100\n",
            "30/30 [==============================] - 0s 6ms/step - loss: 4.9231 - accuracy: 0.5704\n",
            "Epoch 3/100\n",
            "30/30 [==============================] - 0s 7ms/step - loss: 2.1629 - accuracy: 0.5052\n",
            "Epoch 4/100\n",
            "30/30 [==============================] - 0s 7ms/step - loss: 0.9607 - accuracy: 0.4845\n",
            "Epoch 5/100\n",
            "30/30 [==============================] - 0s 6ms/step - loss: 0.8285 - accuracy: 0.5292\n",
            "Epoch 6/100\n",
            "30/30 [==============================] - 0s 6ms/step - loss: 0.7696 - accuracy: 0.5395\n",
            "Epoch 7/100\n",
            "30/30 [==============================] - 0s 6ms/step - loss: 0.8248 - accuracy: 0.4983\n",
            "Epoch 8/100\n",
            "30/30 [==============================] - 0s 6ms/step - loss: 0.6914 - accuracy: 0.5395\n",
            "Epoch 9/100\n",
            "30/30 [==============================] - 0s 6ms/step - loss: 0.9702 - accuracy: 0.5395\n",
            "Epoch 10/100\n",
            "30/30 [==============================] - 0s 6ms/step - loss: 0.7088 - accuracy: 0.5361\n",
            "Epoch 11/100\n",
            "30/30 [==============================] - 0s 6ms/step - loss: 0.6903 - accuracy: 0.5395\n",
            "Epoch 12/100\n",
            "30/30 [==============================] - 0s 7ms/step - loss: 0.6898 - accuracy: 0.5395\n",
            "Epoch 13/100\n",
            "30/30 [==============================] - 0s 6ms/step - loss: 0.6903 - accuracy: 0.5395\n",
            "Epoch 14/100\n",
            "30/30 [==============================] - 0s 6ms/step - loss: 0.6905 - accuracy: 0.5395\n",
            "Epoch 15/100\n",
            "30/30 [==============================] - 0s 6ms/step - loss: 0.6904 - accuracy: 0.5395\n",
            "Epoch 16/100\n",
            "30/30 [==============================] - 0s 6ms/step - loss: 0.6901 - accuracy: 0.5395\n",
            "Epoch 17/100\n",
            "30/30 [==============================] - 0s 6ms/step - loss: 0.6903 - accuracy: 0.5395\n",
            "Epoch 18/100\n",
            "30/30 [==============================] - 0s 6ms/step - loss: 0.6906 - accuracy: 0.5395\n",
            "Epoch 19/100\n",
            "30/30 [==============================] - 0s 6ms/step - loss: 0.6909 - accuracy: 0.5395\n",
            "Epoch 20/100\n",
            "30/30 [==============================] - 0s 6ms/step - loss: 0.6906 - accuracy: 0.5395\n",
            "Epoch 21/100\n",
            "30/30 [==============================] - 0s 6ms/step - loss: 0.6903 - accuracy: 0.5395\n",
            "Epoch 22/100\n",
            "30/30 [==============================] - 0s 6ms/step - loss: 0.6903 - accuracy: 0.5395\n",
            "Epoch 23/100\n",
            "30/30 [==============================] - 0s 6ms/step - loss: 0.6903 - accuracy: 0.5395\n",
            "Epoch 24/100\n",
            "30/30 [==============================] - 0s 6ms/step - loss: 0.6904 - accuracy: 0.5395\n",
            "Epoch 25/100\n",
            "30/30 [==============================] - 0s 6ms/step - loss: 0.6904 - accuracy: 0.5395\n",
            "Epoch 26/100\n",
            "30/30 [==============================] - 0s 6ms/step - loss: 0.6905 - accuracy: 0.5395\n",
            "Epoch 27/100\n",
            "30/30 [==============================] - 0s 6ms/step - loss: 0.6902 - accuracy: 0.5395\n",
            "Epoch 28/100\n",
            "30/30 [==============================] - 0s 6ms/step - loss: 0.6906 - accuracy: 0.5395\n",
            "Epoch 29/100\n",
            "30/30 [==============================] - 0s 6ms/step - loss: 0.6901 - accuracy: 0.5395\n",
            "Epoch 30/100\n",
            "30/30 [==============================] - 0s 6ms/step - loss: 0.6903 - accuracy: 0.5395\n",
            "Epoch 31/100\n",
            "30/30 [==============================] - 0s 6ms/step - loss: 0.6910 - accuracy: 0.5395\n",
            "Epoch 32/100\n",
            "30/30 [==============================] - 0s 6ms/step - loss: 0.6904 - accuracy: 0.5395\n",
            "Epoch 33/100\n",
            "30/30 [==============================] - 0s 6ms/step - loss: 0.6905 - accuracy: 0.5395\n",
            "Epoch 34/100\n",
            "30/30 [==============================] - 0s 6ms/step - loss: 0.6917 - accuracy: 0.5395\n",
            "Epoch 35/100\n",
            "30/30 [==============================] - 0s 6ms/step - loss: 0.6903 - accuracy: 0.5395\n",
            "Epoch 36/100\n",
            "30/30 [==============================] - 0s 6ms/step - loss: 0.6901 - accuracy: 0.5395\n",
            "Epoch 37/100\n",
            "30/30 [==============================] - 0s 6ms/step - loss: 0.6905 - accuracy: 0.5395\n",
            "Epoch 38/100\n",
            "30/30 [==============================] - 0s 6ms/step - loss: 0.6901 - accuracy: 0.5395\n",
            "Epoch 39/100\n",
            "30/30 [==============================] - 0s 6ms/step - loss: 0.6908 - accuracy: 0.5395\n",
            "Epoch 40/100\n",
            "30/30 [==============================] - 0s 6ms/step - loss: 0.6901 - accuracy: 0.5395\n",
            "Epoch 41/100\n",
            "30/30 [==============================] - 0s 6ms/step - loss: 0.6903 - accuracy: 0.5395\n",
            "Epoch 42/100\n",
            "30/30 [==============================] - 0s 6ms/step - loss: 0.6903 - accuracy: 0.5395\n",
            "Epoch 43/100\n",
            "30/30 [==============================] - 0s 6ms/step - loss: 0.6904 - accuracy: 0.5395\n",
            "Epoch 44/100\n",
            "30/30 [==============================] - 0s 6ms/step - loss: 0.6902 - accuracy: 0.5395\n",
            "Epoch 45/100\n",
            "30/30 [==============================] - 0s 6ms/step - loss: 0.6904 - accuracy: 0.5395\n",
            "Epoch 46/100\n",
            "30/30 [==============================] - 0s 6ms/step - loss: 0.6904 - accuracy: 0.5395\n",
            "Epoch 47/100\n",
            "30/30 [==============================] - 0s 6ms/step - loss: 0.6902 - accuracy: 0.5395\n",
            "Epoch 48/100\n",
            "30/30 [==============================] - 0s 6ms/step - loss: 0.6905 - accuracy: 0.5395\n",
            "Epoch 49/100\n",
            "30/30 [==============================] - 0s 6ms/step - loss: 0.6902 - accuracy: 0.5395\n",
            "Epoch 50/100\n",
            "30/30 [==============================] - 0s 6ms/step - loss: 0.6901 - accuracy: 0.5395\n",
            "Epoch 51/100\n",
            "30/30 [==============================] - 0s 6ms/step - loss: 0.6902 - accuracy: 0.5395\n",
            "Epoch 52/100\n",
            "30/30 [==============================] - 0s 6ms/step - loss: 0.6899 - accuracy: 0.5395\n",
            "Epoch 53/100\n",
            "30/30 [==============================] - 0s 6ms/step - loss: 0.6903 - accuracy: 0.5395\n",
            "Epoch 54/100\n",
            "30/30 [==============================] - 0s 6ms/step - loss: 0.6908 - accuracy: 0.5395\n",
            "Epoch 55/100\n",
            "30/30 [==============================] - 0s 6ms/step - loss: 0.6902 - accuracy: 0.5395\n",
            "Epoch 56/100\n",
            "30/30 [==============================] - 0s 6ms/step - loss: 0.6911 - accuracy: 0.5395\n",
            "Epoch 57/100\n",
            "30/30 [==============================] - 0s 6ms/step - loss: 0.6902 - accuracy: 0.5395\n",
            "Epoch 58/100\n",
            "30/30 [==============================] - 0s 7ms/step - loss: 0.6902 - accuracy: 0.5395\n",
            "Epoch 59/100\n",
            "30/30 [==============================] - 0s 6ms/step - loss: 0.6900 - accuracy: 0.5395\n",
            "Epoch 60/100\n",
            "30/30 [==============================] - 0s 6ms/step - loss: 0.6904 - accuracy: 0.5395\n",
            "Epoch 61/100\n",
            "30/30 [==============================] - 0s 6ms/step - loss: 0.6905 - accuracy: 0.5395\n",
            "Epoch 62/100\n",
            "30/30 [==============================] - 0s 6ms/step - loss: 0.6904 - accuracy: 0.5395\n",
            "Epoch 63/100\n",
            "30/30 [==============================] - 0s 6ms/step - loss: 0.6907 - accuracy: 0.5395\n",
            "Epoch 64/100\n",
            "30/30 [==============================] - 0s 6ms/step - loss: 0.6903 - accuracy: 0.5395\n",
            "Epoch 65/100\n",
            "30/30 [==============================] - 0s 6ms/step - loss: 0.6906 - accuracy: 0.5395\n",
            "Epoch 66/100\n",
            "30/30 [==============================] - 0s 6ms/step - loss: 0.6901 - accuracy: 0.5395\n",
            "Epoch 67/100\n",
            "30/30 [==============================] - 0s 6ms/step - loss: 0.6902 - accuracy: 0.5395\n",
            "Epoch 68/100\n",
            "30/30 [==============================] - 0s 6ms/step - loss: 0.6902 - accuracy: 0.5395\n",
            "Epoch 69/100\n",
            "30/30 [==============================] - 0s 6ms/step - loss: 0.6905 - accuracy: 0.5395\n",
            "Epoch 70/100\n",
            "30/30 [==============================] - 0s 6ms/step - loss: 0.6900 - accuracy: 0.5395\n",
            "Epoch 71/100\n",
            "30/30 [==============================] - 0s 6ms/step - loss: 0.6904 - accuracy: 0.5395\n",
            "Epoch 72/100\n",
            "30/30 [==============================] - 0s 6ms/step - loss: 0.6907 - accuracy: 0.5395\n",
            "Epoch 73/100\n",
            "30/30 [==============================] - 0s 6ms/step - loss: 0.6904 - accuracy: 0.5395\n",
            "Epoch 74/100\n",
            "30/30 [==============================] - 0s 6ms/step - loss: 0.6903 - accuracy: 0.5395\n",
            "Epoch 75/100\n",
            "30/30 [==============================] - 0s 6ms/step - loss: 0.6906 - accuracy: 0.5395\n",
            "Epoch 76/100\n",
            "30/30 [==============================] - 0s 6ms/step - loss: 0.6904 - accuracy: 0.5395\n",
            "Epoch 77/100\n",
            "30/30 [==============================] - 0s 6ms/step - loss: 0.6904 - accuracy: 0.5395\n",
            "Epoch 78/100\n",
            "30/30 [==============================] - 0s 6ms/step - loss: 0.6905 - accuracy: 0.5395\n",
            "Epoch 79/100\n",
            "30/30 [==============================] - 0s 7ms/step - loss: 0.6903 - accuracy: 0.5395\n",
            "Epoch 80/100\n",
            "30/30 [==============================] - 0s 6ms/step - loss: 0.6903 - accuracy: 0.5395\n",
            "Epoch 81/100\n",
            "30/30 [==============================] - 0s 6ms/step - loss: 0.6904 - accuracy: 0.5395\n",
            "Epoch 82/100\n",
            "30/30 [==============================] - 0s 6ms/step - loss: 0.6902 - accuracy: 0.5395\n",
            "Epoch 83/100\n",
            "30/30 [==============================] - 0s 6ms/step - loss: 0.6906 - accuracy: 0.5395\n",
            "Epoch 84/100\n",
            "30/30 [==============================] - 0s 6ms/step - loss: 0.6906 - accuracy: 0.5395\n",
            "Epoch 85/100\n",
            "30/30 [==============================] - 0s 6ms/step - loss: 0.6905 - accuracy: 0.5395\n",
            "Epoch 86/100\n",
            "30/30 [==============================] - 0s 6ms/step - loss: 0.6902 - accuracy: 0.5395\n",
            "Epoch 87/100\n",
            "30/30 [==============================] - 0s 6ms/step - loss: 0.6902 - accuracy: 0.5395\n",
            "Epoch 88/100\n",
            "30/30 [==============================] - 0s 6ms/step - loss: 0.6904 - accuracy: 0.5395\n",
            "Epoch 89/100\n",
            "30/30 [==============================] - 0s 6ms/step - loss: 0.6904 - accuracy: 0.5395\n",
            "Epoch 90/100\n",
            "30/30 [==============================] - 0s 6ms/step - loss: 0.6901 - accuracy: 0.5395\n",
            "Epoch 91/100\n",
            "30/30 [==============================] - 0s 7ms/step - loss: 0.6901 - accuracy: 0.5395\n",
            "Epoch 92/100\n",
            "30/30 [==============================] - 0s 6ms/step - loss: 0.6903 - accuracy: 0.5395\n",
            "Epoch 93/100\n",
            "30/30 [==============================] - 0s 6ms/step - loss: 0.6905 - accuracy: 0.5395\n",
            "Epoch 94/100\n",
            "30/30 [==============================] - 0s 6ms/step - loss: 0.6902 - accuracy: 0.5395\n",
            "Epoch 95/100\n",
            "30/30 [==============================] - 0s 6ms/step - loss: 0.6903 - accuracy: 0.5395\n",
            "Epoch 96/100\n",
            "30/30 [==============================] - 0s 6ms/step - loss: 0.6905 - accuracy: 0.5395\n",
            "Epoch 97/100\n",
            "30/30 [==============================] - 0s 6ms/step - loss: 0.6904 - accuracy: 0.5395\n",
            "Epoch 98/100\n",
            "30/30 [==============================] - 0s 6ms/step - loss: 0.6903 - accuracy: 0.5395\n",
            "Epoch 99/100\n",
            "30/30 [==============================] - 0s 6ms/step - loss: 0.6902 - accuracy: 0.5395\n",
            "Epoch 100/100\n",
            "30/30 [==============================] - 0s 6ms/step - loss: 0.6905 - accuracy: 0.5395\n",
            "10/10 [==============================] - 0s 3ms/step - loss: 0.6901 - accuracy: 0.5395\n",
            "Accuracy: 53.95\n"
          ]
        }
      ]
    },
    {
      "cell_type": "code",
      "source": [
        "model.summary()\n"
      ],
      "metadata": {
        "colab": {
          "base_uri": "https://localhost:8080/"
        },
        "id": "_79O_S-O9oqq",
        "outputId": "dea84527-129f-410c-fe6b-0cc4921d5da5"
      },
      "execution_count": null,
      "outputs": [
        {
          "output_type": "stream",
          "name": "stdout",
          "text": [
            "Model: \"sequential_10\"\n",
            "_________________________________________________________________\n",
            " Layer (type)                Output Shape              Param #   \n",
            "=================================================================\n",
            " dense_70 (Dense)            (None, 3072)              9440256   \n",
            "                                                                 \n",
            " dense_71 (Dense)            (None, 2048)              6293504   \n",
            "                                                                 \n",
            " dense_72 (Dense)            (None, 1024)              2098176   \n",
            "                                                                 \n",
            " dense_73 (Dense)            (None, 512)               524800    \n",
            "                                                                 \n",
            " dense_74 (Dense)            (None, 1)                 513       \n",
            "                                                                 \n",
            "=================================================================\n",
            "Total params: 18,357,249\n",
            "Trainable params: 18,357,249\n",
            "Non-trainable params: 0\n",
            "_________________________________________________________________\n"
          ]
        }
      ]
    }
  ]
}